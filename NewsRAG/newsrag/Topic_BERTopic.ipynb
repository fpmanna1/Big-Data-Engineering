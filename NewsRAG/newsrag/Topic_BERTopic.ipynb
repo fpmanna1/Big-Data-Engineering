{
 "metadata": {
  "kernelspec": {
   "display_name": "Python 3",
   "language": "python",
   "name": "python3"
  },
  "language_info": {
   "name": "python",
   "version": "3.10.13",
   "mimetype": "text/x-python",
   "codemirror_mode": {
    "name": "ipython",
    "version": 3
   },
   "pygments_lexer": "ipython3",
   "nbconvert_exporter": "python",
   "file_extension": ".py"
  },
  "kaggle": {
   "accelerator": "nvidiaTeslaT4",
   "dataSources": [
    {
     "sourceId": 8682049,
     "sourceType": "datasetVersion",
     "datasetId": 5204887
    },
    {
     "sourceId": 8703184,
     "sourceType": "datasetVersion",
     "datasetId": 5220037
    }
   ],
   "dockerImageVersionId": 30733,
   "isInternetEnabled": true,
   "language": "python",
   "sourceType": "notebook",
   "isGpuEnabled": true
  }
 },
 "nbformat_minor": 4,
 "nbformat": 4,
 "cells": [
  {
   "cell_type": "code",
   "source": [
    "import pandas as pd\n",
    "\n",
    "file_path = \"/kaggle/input/articles-base/BASE.csv\"\n",
    "\n",
    "def create_corpus_from_csv(file_path):\n",
    "    # Read the CSV file into a DataFrame\n",
    "    df = pd.read_csv(file_path)\n",
    "\n",
    "    # Check if the 'text' column exists\n",
    "    if 'text' not in df.columns:\n",
    "        raise ValueError(\"The CSV file does not contain a 'text' column.\")\n",
    "\n",
    "    # Extract the 'text' column and take every 4th article\n",
    "    skip_df = df[::4].reset_index(drop=True)\n",
    "    corpus = skip_df['text']\n",
    "    return corpus, skip_df\n",
    "\n",
    "corpus, skip_df = create_corpus_from_csv(file_path)"
   ],
   "metadata": {
    "collapsed": false,
    "execution": {
     "iopub.status.busy": "2024-06-16T10:16:46.020311Z",
     "iopub.execute_input": "2024-06-16T10:16:46.021008Z",
     "iopub.status.idle": "2024-06-16T10:16:52.955764Z",
     "shell.execute_reply.started": "2024-06-16T10:16:46.020979Z",
     "shell.execute_reply": "2024-06-16T10:16:52.954673Z"
    },
    "trusted": true
   },
   "execution_count": 11,
   "outputs": []
  },
  {
   "cell_type": "code",
   "source": [
    "print(len(skip_df))\n",
    "print(skip_df.head())"
   ],
   "metadata": {
    "scrolled": true,
    "execution": {
     "iopub.status.busy": "2024-06-14T15:48:39.263313Z",
     "iopub.execute_input": "2024-06-14T15:48:39.263620Z",
     "iopub.status.idle": "2024-06-14T15:48:39.287972Z",
     "shell.execute_reply.started": "2024-06-14T15:48:39.263595Z",
     "shell.execute_reply": "2024-06-14T15:48:39.287032Z"
    },
    "trusted": true
   },
   "execution_count": null,
   "outputs": []
  },
  {
   "cell_type": "code",
   "source": [
    "skip_df.to_csv('/kaggle/working/skip4_base.csv', index=False)\n",
    "corpus.to_csv('/kaggle/working/skip4_corpus.csv', index=False)"
   ],
   "metadata": {
    "execution": {
     "iopub.status.busy": "2024-06-14T15:48:39.289051Z",
     "iopub.execute_input": "2024-06-14T15:48:39.289345Z",
     "iopub.status.idle": "2024-06-14T15:48:45.068418Z",
     "shell.execute_reply.started": "2024-06-14T15:48:39.289321Z",
     "shell.execute_reply": "2024-06-14T15:48:45.067503Z"
    },
    "trusted": true
   },
   "execution_count": null,
   "outputs": []
  },
  {
   "cell_type": "code",
   "source": [
    "!python -m spacy download it_core_news_lg"
   ],
   "metadata": {
    "_kg_hide-input": false,
    "scrolled": true,
    "execution": {
     "iopub.status.busy": "2024-06-14T15:48:45.070987Z",
     "iopub.execute_input": "2024-06-14T15:48:45.071416Z",
     "iopub.status.idle": "2024-06-14T15:49:20.159829Z",
     "shell.execute_reply.started": "2024-06-14T15:48:45.071383Z",
     "shell.execute_reply": "2024-06-14T15:49:20.158888Z"
    },
    "trusted": true
   },
   "execution_count": null,
   "outputs": []
  },
  {
   "cell_type": "code",
   "source": [
    "import spacy\n",
    "\n",
    "# Enable GPU for SpaCy\n",
    "spacy.require_gpu()\n",
    "\n",
    "# Load the SpaCy model\n",
    "nlp = spacy.load(\"it_core_news_lg\")\n",
    "\n",
    "# Check if SpaCy is using the GPU\n",
    "print(\"SpaCy is using GPU:\", spacy.prefer_gpu())\n"
   ],
   "metadata": {
    "collapsed": false,
    "execution": {
     "iopub.status.busy": "2024-06-14T15:49:20.161322Z",
     "iopub.execute_input": "2024-06-14T15:49:20.161654Z",
     "iopub.status.idle": "2024-06-14T15:49:27.855421Z",
     "shell.execute_reply.started": "2024-06-14T15:49:20.161627Z",
     "shell.execute_reply": "2024-06-14T15:49:27.854516Z"
    },
    "trusted": true
   },
   "execution_count": null,
   "outputs": []
  },
  {
   "cell_type": "code",
   "source": [
    "!pip install tqdm"
   ],
   "metadata": {
    "execution": {
     "iopub.status.busy": "2024-06-14T15:49:27.856796Z",
     "iopub.execute_input": "2024-06-14T15:49:27.857812Z",
     "iopub.status.idle": "2024-06-14T15:49:39.962537Z",
     "shell.execute_reply.started": "2024-06-14T15:49:27.857777Z",
     "shell.execute_reply": "2024-06-14T15:49:39.961413Z"
    },
    "trusted": true
   },
   "execution_count": null,
   "outputs": []
  },
  {
   "cell_type": "code",
   "source": [
    "import nltk\n",
    "from nltk.tokenize import word_tokenize\n",
    "from nltk.corpus import stopwords\n",
    "\n",
    "import re\n",
    "from tqdm import tqdm\n",
    "nltk.download('stopwords')\n",
    "nltk.download('punkt')\n",
    "\n",
    "import spacy\n",
    "\n",
    "spacy.require_gpu() \n",
    "nlp = spacy.load(\"it_core_news_lg\")  \n",
    "text = corpus\n",
    "\n",
    "# Funzione per rimuovere gli accenti\n",
    "def remove_accents(text):\n",
    "    accented_chars = 'àáâäãåèéêëìíîïòóôöõùúûüÀÁÂÄÃÅÈÉÊËÌÍÎÏÒÓÔÖÕÙÚÛÜ'\n",
    "    replacement_chars = 'aaaaaaeeeeiiiiooooouuuuAAAAAAEEEEIIIIOOOOOUUUU'\n",
    "    translation_table = str.maketrans(accented_chars, replacement_chars)\n",
    "    return text.translate(translation_table)\n",
    "\n",
    "# Funzione per pulire il testo dai caratteri accentai, convertire in minuscolo e sostituire i caratteri speciali con degli spazi\n",
    "def clean_text(text):\n",
    "    text = remove_accents(text)\n",
    "    text = text.lower()\n",
    "    text = re.sub(r\"[\\.,:;!?'\\-\\\"«»<>’]\", \" \", text)\n",
    "    return text\n",
    "\n",
    "# Funzione per rimuovere le stopwords\n",
    "def remove_stopwords(text):\n",
    "    ita_stopwords = stopwords.words('italian')\n",
    "    tokens = word_tokenize(text)\n",
    "    return [token for token in tokens if token not in ita_stopwords]\n",
    "\n",
    "# Funzione per lemmatizzare il testo\n",
    "def lemmatization(text):\n",
    "    text = \" \".join(text)  # Join tokens into a single string\n",
    "    doc = nlp(text)\n",
    "    return \" \".join([token.lemma_ for token in doc])\n",
    "\n",
    "# Pipeline di pre-processing del testo\n",
    "def process_text(text):\n",
    "    text = clean_text(text)\n",
    "    text = remove_stopwords(text)\n",
    "    text = lemmatization(text)\n",
    "    return text\n",
    "\n",
    "#text_processed = text.apply(process_text)\n",
    "# Applying tqdm to the processing pipeline\n",
    "text_processed = [process_text(text) for text in tqdm(corpus)]"
   ],
   "metadata": {
    "collapsed": false,
    "execution": {
     "iopub.status.busy": "2024-06-14T15:49:39.964281Z",
     "iopub.execute_input": "2024-06-14T15:49:39.964678Z",
     "iopub.status.idle": "2024-06-14T16:09:00.343371Z",
     "shell.execute_reply.started": "2024-06-14T15:49:39.964644Z",
     "shell.execute_reply": "2024-06-14T16:09:00.342515Z"
    },
    "trusted": true
   },
   "execution_count": null,
   "outputs": []
  },
  {
   "cell_type": "code",
   "source": [
    "text_processed_series = pd.Series(text_processed)\n",
    "print(text_processed_series)"
   ],
   "metadata": {
    "execution": {
     "iopub.status.busy": "2024-06-14T16:09:00.344780Z",
     "iopub.execute_input": "2024-06-14T16:09:00.345358Z",
     "iopub.status.idle": "2024-06-14T16:09:00.355646Z",
     "shell.execute_reply.started": "2024-06-14T16:09:00.345324Z",
     "shell.execute_reply": "2024-06-14T16:09:00.354657Z"
    },
    "trusted": true
   },
   "execution_count": null,
   "outputs": []
  },
  {
   "cell_type": "code",
   "source": [
    "!pip install bertopic"
   ],
   "metadata": {
    "scrolled": true,
    "execution": {
     "iopub.status.busy": "2024-06-16T10:12:58.123702Z",
     "iopub.execute_input": "2024-06-16T10:12:58.124064Z",
     "iopub.status.idle": "2024-06-16T10:13:24.113742Z",
     "shell.execute_reply.started": "2024-06-16T10:12:58.124037Z",
     "shell.execute_reply": "2024-06-16T10:13:24.112632Z"
    },
    "trusted": true
   },
   "execution_count": 2,
   "outputs": [
    {
     "name": "stdout",
     "text": "Collecting bertopic\n  Downloading bertopic-0.16.2-py2.py3-none-any.whl.metadata (22 kB)\nRequirement already satisfied: numpy>=1.20.0 in /opt/conda/lib/python3.10/site-packages (from bertopic) (1.26.4)\nCollecting hdbscan>=0.8.29 (from bertopic)\n  Downloading hdbscan-0.8.36-cp310-cp310-manylinux_2_17_x86_64.manylinux2014_x86_64.whl.metadata (13 kB)\nRequirement already satisfied: umap-learn>=0.5.0 in /opt/conda/lib/python3.10/site-packages (from bertopic) (0.5.6)\nRequirement already satisfied: pandas>=1.1.5 in /opt/conda/lib/python3.10/site-packages (from bertopic) (2.2.1)\nRequirement already satisfied: scikit-learn>=0.22.2.post1 in /opt/conda/lib/python3.10/site-packages (from bertopic) (1.2.2)\nRequirement already satisfied: tqdm>=4.41.1 in /opt/conda/lib/python3.10/site-packages (from bertopic) (4.66.4)\nCollecting sentence-transformers>=0.4.1 (from bertopic)\n  Downloading sentence_transformers-3.0.1-py3-none-any.whl.metadata (10 kB)\nRequirement already satisfied: plotly>=4.7.0 in /opt/conda/lib/python3.10/site-packages (from bertopic) (5.18.0)\nCollecting cython<3,>=0.27 (from hdbscan>=0.8.29->bertopic)\n  Downloading Cython-0.29.37-cp310-cp310-manylinux_2_17_x86_64.manylinux2014_x86_64.manylinux_2_24_x86_64.whl.metadata (3.1 kB)\nRequirement already satisfied: scipy>=1.0 in /opt/conda/lib/python3.10/site-packages (from hdbscan>=0.8.29->bertopic) (1.11.4)\nRequirement already satisfied: joblib>=1.0 in /opt/conda/lib/python3.10/site-packages (from hdbscan>=0.8.29->bertopic) (1.4.2)\nRequirement already satisfied: python-dateutil>=2.8.2 in /opt/conda/lib/python3.10/site-packages (from pandas>=1.1.5->bertopic) (2.9.0.post0)\nRequirement already satisfied: pytz>=2020.1 in /opt/conda/lib/python3.10/site-packages (from pandas>=1.1.5->bertopic) (2023.3.post1)\nRequirement already satisfied: tzdata>=2022.7 in /opt/conda/lib/python3.10/site-packages (from pandas>=1.1.5->bertopic) (2023.4)\nRequirement already satisfied: tenacity>=6.2.0 in /opt/conda/lib/python3.10/site-packages (from plotly>=4.7.0->bertopic) (8.2.3)\nRequirement already satisfied: packaging in /opt/conda/lib/python3.10/site-packages (from plotly>=4.7.0->bertopic) (21.3)\nRequirement already satisfied: threadpoolctl>=2.0.0 in /opt/conda/lib/python3.10/site-packages (from scikit-learn>=0.22.2.post1->bertopic) (3.2.0)\nRequirement already satisfied: transformers<5.0.0,>=4.34.0 in /opt/conda/lib/python3.10/site-packages (from sentence-transformers>=0.4.1->bertopic) (4.41.2)\nRequirement already satisfied: torch>=1.11.0 in /opt/conda/lib/python3.10/site-packages (from sentence-transformers>=0.4.1->bertopic) (2.1.2)\nRequirement already satisfied: huggingface-hub>=0.15.1 in /opt/conda/lib/python3.10/site-packages (from sentence-transformers>=0.4.1->bertopic) (0.23.2)\nRequirement already satisfied: Pillow in /opt/conda/lib/python3.10/site-packages (from sentence-transformers>=0.4.1->bertopic) (9.5.0)\nRequirement already satisfied: numba>=0.51.2 in /opt/conda/lib/python3.10/site-packages (from umap-learn>=0.5.0->bertopic) (0.58.1)\nRequirement already satisfied: pynndescent>=0.5 in /opt/conda/lib/python3.10/site-packages (from umap-learn>=0.5.0->bertopic) (0.5.12)\nRequirement already satisfied: filelock in /opt/conda/lib/python3.10/site-packages (from huggingface-hub>=0.15.1->sentence-transformers>=0.4.1->bertopic) (3.13.1)\nRequirement already satisfied: fsspec>=2023.5.0 in /opt/conda/lib/python3.10/site-packages (from huggingface-hub>=0.15.1->sentence-transformers>=0.4.1->bertopic) (2024.3.1)\nRequirement already satisfied: pyyaml>=5.1 in /opt/conda/lib/python3.10/site-packages (from huggingface-hub>=0.15.1->sentence-transformers>=0.4.1->bertopic) (6.0.1)\nRequirement already satisfied: requests in /opt/conda/lib/python3.10/site-packages (from huggingface-hub>=0.15.1->sentence-transformers>=0.4.1->bertopic) (2.32.3)\nRequirement already satisfied: typing-extensions>=3.7.4.3 in /opt/conda/lib/python3.10/site-packages (from huggingface-hub>=0.15.1->sentence-transformers>=0.4.1->bertopic) (4.9.0)\nRequirement already satisfied: llvmlite<0.42,>=0.41.0dev0 in /opt/conda/lib/python3.10/site-packages (from numba>=0.51.2->umap-learn>=0.5.0->bertopic) (0.41.1)\nRequirement already satisfied: pyparsing!=3.0.5,>=2.0.2 in /opt/conda/lib/python3.10/site-packages (from packaging->plotly>=4.7.0->bertopic) (3.1.1)\nRequirement already satisfied: six>=1.5 in /opt/conda/lib/python3.10/site-packages (from python-dateutil>=2.8.2->pandas>=1.1.5->bertopic) (1.16.0)\nRequirement already satisfied: sympy in /opt/conda/lib/python3.10/site-packages (from torch>=1.11.0->sentence-transformers>=0.4.1->bertopic) (1.12.1)\nRequirement already satisfied: networkx in /opt/conda/lib/python3.10/site-packages (from torch>=1.11.0->sentence-transformers>=0.4.1->bertopic) (3.2.1)\nRequirement already satisfied: jinja2 in /opt/conda/lib/python3.10/site-packages (from torch>=1.11.0->sentence-transformers>=0.4.1->bertopic) (3.1.2)\nRequirement already satisfied: regex!=2019.12.17 in /opt/conda/lib/python3.10/site-packages (from transformers<5.0.0,>=4.34.0->sentence-transformers>=0.4.1->bertopic) (2023.12.25)\nRequirement already satisfied: tokenizers<0.20,>=0.19 in /opt/conda/lib/python3.10/site-packages (from transformers<5.0.0,>=4.34.0->sentence-transformers>=0.4.1->bertopic) (0.19.1)\nRequirement already satisfied: safetensors>=0.4.1 in /opt/conda/lib/python3.10/site-packages (from transformers<5.0.0,>=4.34.0->sentence-transformers>=0.4.1->bertopic) (0.4.3)\nRequirement already satisfied: MarkupSafe>=2.0 in /opt/conda/lib/python3.10/site-packages (from jinja2->torch>=1.11.0->sentence-transformers>=0.4.1->bertopic) (2.1.3)\nRequirement already satisfied: charset-normalizer<4,>=2 in /opt/conda/lib/python3.10/site-packages (from requests->huggingface-hub>=0.15.1->sentence-transformers>=0.4.1->bertopic) (3.3.2)\nRequirement already satisfied: idna<4,>=2.5 in /opt/conda/lib/python3.10/site-packages (from requests->huggingface-hub>=0.15.1->sentence-transformers>=0.4.1->bertopic) (3.6)\nRequirement already satisfied: urllib3<3,>=1.21.1 in /opt/conda/lib/python3.10/site-packages (from requests->huggingface-hub>=0.15.1->sentence-transformers>=0.4.1->bertopic) (1.26.18)\nRequirement already satisfied: certifi>=2017.4.17 in /opt/conda/lib/python3.10/site-packages (from requests->huggingface-hub>=0.15.1->sentence-transformers>=0.4.1->bertopic) (2024.2.2)\nRequirement already satisfied: mpmath<1.4.0,>=1.1.0 in /opt/conda/lib/python3.10/site-packages (from sympy->torch>=1.11.0->sentence-transformers>=0.4.1->bertopic) (1.3.0)\nDownloading bertopic-0.16.2-py2.py3-none-any.whl (158 kB)\n\u001B[2K   \u001B[90m━━━━━━━━━━━━━━━━━━━━━━━━━━━━━━━━━━━━━━━━\u001B[0m \u001B[32m158.8/158.8 kB\u001B[0m \u001B[31m8.5 MB/s\u001B[0m eta \u001B[36m0:00:00\u001B[0m\n\u001B[?25hDownloading hdbscan-0.8.36-cp310-cp310-manylinux_2_17_x86_64.manylinux2014_x86_64.whl (3.6 MB)\n\u001B[2K   \u001B[90m━━━━━━━━━━━━━━━━━━━━━━━━━━━━━━━━━━━━━━━━\u001B[0m \u001B[32m3.6/3.6 MB\u001B[0m \u001B[31m80.2 MB/s\u001B[0m eta \u001B[36m0:00:00\u001B[0m:00:01\u001B[0m\n\u001B[?25hDownloading sentence_transformers-3.0.1-py3-none-any.whl (227 kB)\n\u001B[2K   \u001B[90m━━━━━━━━━━━━━━━━━━━━━━━━━━━━━━━━━━━━━━━━\u001B[0m \u001B[32m227.1/227.1 kB\u001B[0m \u001B[31m16.3 MB/s\u001B[0m eta \u001B[36m0:00:00\u001B[0m\n\u001B[?25hDownloading Cython-0.29.37-cp310-cp310-manylinux_2_17_x86_64.manylinux2014_x86_64.manylinux_2_24_x86_64.whl (1.9 MB)\n\u001B[2K   \u001B[90m━━━━━━━━━━━━━━━━━━━━━━━━━━━━━━━━━━━━━━━━\u001B[0m \u001B[32m1.9/1.9 MB\u001B[0m \u001B[31m70.8 MB/s\u001B[0m eta \u001B[36m0:00:00\u001B[0m\n\u001B[?25hInstalling collected packages: cython, hdbscan, sentence-transformers, bertopic\n  Attempting uninstall: cython\n    Found existing installation: Cython 3.0.8\n    Uninstalling Cython-3.0.8:\n      Successfully uninstalled Cython-3.0.8\nSuccessfully installed bertopic-0.16.2 cython-0.29.37 hdbscan-0.8.36 sentence-transformers-3.0.1\n",
     "output_type": "stream"
    }
   ]
  },
  {
   "cell_type": "code",
   "source": [
    "import torch\n",
    "device = torch.device(\"cuda\" if torch.cuda.is_available() else \"cpu\")\n",
    "print(device)"
   ],
   "metadata": {
    "execution": {
     "iopub.status.busy": "2024-06-16T10:13:24.115719Z",
     "iopub.execute_input": "2024-06-16T10:13:24.116020Z",
     "iopub.status.idle": "2024-06-16T10:13:27.300053Z",
     "shell.execute_reply.started": "2024-06-16T10:13:24.115993Z",
     "shell.execute_reply": "2024-06-16T10:13:27.299066Z"
    },
    "trusted": true
   },
   "execution_count": 3,
   "outputs": [
    {
     "name": "stdout",
     "text": "cuda\n",
     "output_type": "stream"
    }
   ]
  },
  {
   "cell_type": "code",
   "source": [
    "from bertopic import BERTopic\n",
    "from hdbscan import HDBSCAN\n",
    "from umap import UMAP\n",
    "from sentence_transformers import SentenceTransformer\n",
    "from sklearn.feature_extraction.text import CountVectorizer\n",
    "from bertopic.vectorizers import ClassTfidfTransformer\n",
    "from bertopic.representation import MaximalMarginalRelevance, KeyBERTInspired\n",
    "\n",
    "random_state = 123456  # UMAP random seed\n",
    "\n",
    "# UMAP\n",
    "n_neighbors = 10, # num of high dimensional neighbours. default 15\n",
    "\n",
    "# HDBSCAN\n",
    "min_cluster_size = 30  # default:5 HDBSCAN(); default:10 BERTopic()\n",
    "min_samples = 5        # default 5?\n",
    "\n",
    "# BERTOPIC\n",
    "min_topic_size = 10    # 10 default\n",
    "top_n_words = 10       # 10 default\n",
    "nr_topics = 30         \n",
    "\n",
    "ita_stopwords = stopwords.words('italian')\n",
    "############################################\n",
    "\n",
    "# Step 1 Extract embeddings (SBERT)\n",
    "embedding_model = SentenceTransformer('paraphrase-multilingual-MiniLM-L12-v2', device=device)\n",
    "\n",
    "# Step 2 - Reduce dimensionality\n",
    "umap_model = UMAP(n_neighbors  = 10, # num of high dimensional neighbours.\n",
    "                  n_components = 5,  # default:5\n",
    "                  min_dist     = 0.0,\n",
    "                  random_state = random_state) # default:None\n",
    "\n",
    "# Step 3 - Clusterize reduced embeddings\n",
    "hdbscan_model = HDBSCAN(min_cluster_size = min_cluster_size,\n",
    "                        #min_samples=min_samples,\n",
    "                        metric='euclidean',\n",
    "                        cluster_selection_method='eom',\n",
    "                        prediction_data=True)\n",
    "\n",
    "# Step 4 - Tokenize topics\n",
    "vectorizer_model = CountVectorizer(stop_words=ita_stopwords,\n",
    "                                   lowercase=False) # lowercase=False to keep Acronyms uppercase\n",
    "\n",
    "# Step 5 - Create topic representation\n",
    "ctfidf_model = ClassTfidfTransformer(reduce_frequent_words=True) # False default\n",
    "\n",
    "# Step 6 - Fine-tune topic representations\n",
    "representation_model = MaximalMarginalRelevance(diversity = 0.7,  # 0.1 default\n",
    "                                                top_n_words = 15) # 10 default\n",
    "\n",
    "\n",
    "############################################\n",
    "\n",
    "# All steps together\n",
    "topic_model = BERTopic(min_topic_size = min_topic_size,             # 10 default\n",
    "                       top_n_words = top_n_words,                   # 10 default\n",
    "                       calculate_probabilities = True,\n",
    "                       embedding_model = embedding_model,           # Step 1 - Extract embeddings\n",
    "                       umap_model = umap_model,                     # Step 2 - Reduce dimensionality\n",
    "                       hdbscan_model = hdbscan_model,               # Step 3 - Cluster reduced embeddings\n",
    "                       vectorizer_model = vectorizer_model,         # Step 4 - Tokenize topics\n",
    "                       ctfidf_model = ctfidf_model,                 # Step 5 - Extract topic words\n",
    "                       nr_topics = 30\n",
    "                       #representation_model= representation_model   # Step 6 - (Optional) Fine-tune topic representations\n",
    "                       )"
   ],
   "metadata": {
    "collapsed": false,
    "trusted": true
   },
   "execution_count": null,
   "outputs": []
  },
  {
   "cell_type": "code",
   "source": [
    "%%time\n",
    "topic_model =  topic_model.fit(text_processed_series)\n",
    "probs = topic_model.probabilities_\n",
    "topics = topic_model.topics_"
   ],
   "metadata": {
    "execution": {
     "iopub.status.busy": "2024-06-14T16:10:30.922753Z",
     "iopub.execute_input": "2024-06-14T16:10:30.923387Z",
     "iopub.status.idle": "2024-06-14T16:13:08.597037Z",
     "shell.execute_reply.started": "2024-06-14T16:10:30.923360Z",
     "shell.execute_reply": "2024-06-14T16:13:08.595941Z"
    },
    "trusted": true
   },
   "execution_count": null,
   "outputs": []
  },
  {
   "cell_type": "code",
   "source": [
    "import numpy as np\n",
    "import zipfile\n",
    "\n",
    "data_path='/kaggle/working/'\n",
    "\n",
    "def save_topic_model(filename= \"topic_model\"):\n",
    "    topic_model.save(data_path+filename)\n",
    "    np.savetxt(data_path+filename+'_probs.txt', probs)\n",
    "    # Create a ZIP file\n",
    "    with zipfile.ZipFile(data_path + filename + '.zip', 'w') as zipf:\n",
    "        zipf.write(data_path + filename, arcname=filename)\n",
    "        zipf.write(data_path + filename + '_probs.txt', arcname=filename + '_probs.txt')\n",
    "    \n",
    "\n",
    "def load_topic_model(filename= \"topic_model\"):\n",
    "    # Extract the ZIP file\n",
    "    with zipfile.ZipFile(data_path + filename + '.zip', 'r') as zipf:\n",
    "        zipf.extractall(data_path)\n",
    "    topic_model = BERTopic.load(data_path+filename)\n",
    "    probs = np.loadtxt(data_path+filename+'_probs.txt')\n",
    "    return topic_model, probs"
   ],
   "metadata": {
    "trusted": true
   },
   "execution_count": null,
   "outputs": []
  },
  {
   "cell_type": "code",
   "source": [
    "save_topic_model()"
   ],
   "metadata": {},
   "execution_count": null,
   "outputs": []
  },
  {
   "cell_type": "code",
   "source": [
    "topic_model.get_topic_info()"
   ],
   "metadata": {
    "execution": {
     "iopub.status.busy": "2024-06-16T10:22:54.827573Z",
     "iopub.execute_input": "2024-06-16T10:22:54.827942Z",
     "iopub.status.idle": "2024-06-16T10:22:54.875303Z",
     "shell.execute_reply.started": "2024-06-16T10:22:54.827905Z",
     "shell.execute_reply": "2024-06-16T10:22:54.874449Z"
    },
    "trusted": true
   },
   "execution_count": 18,
   "outputs": [
    {
     "execution_count": 18,
     "output_type": "execute_result",
     "data": {
      "text/plain": "    Topic  Count                                           Name  \\\n0      -1  12424                        -1_anno_piu_essere_fare   \n1       0   4622                      0_squadra_gara_gol_finale   \n2       1   4125                    1_pd_governo_melone_partito   \n3       2   2966                   2_ucraino_russo_Russia_Putin   \n4       3    696                 3_paziente_vaccino_virus_covid   \n5       4    661                4_incidente_morire_ferito_morto   \n6       5    652                       5_nord_sud_caldo_pioggia   \n7       6    530                   6_elettrico_litro_prezzo_gas   \n8       7    503                   7_film_regista_attore_cinema   \n9       8    500                 8_Papa_papa_Francesco_vaticano   \n10      9    417               9_arresto_denaro_giudice_Messina   \n11     10    339          10_google_intelligenza_apple_digitale   \n12     11    334                     11_volo_migrante_aereo_ita   \n13     12    296          12_scolastico_studente_scuola_docente   \n14     13    288                  13_cinese_taiwan_Cina_Pechino   \n15     14    283                 14_tasso_inflazione_rialzo_bce   \n16     15    275                 15_cane_gatto_animale_cucciolo   \n17     16    252            16_trump_donald_repubblicano_tycoon   \n18     17    189                 17_principe_Carlo_harry_regina   \n19     18    144                 18_00_primopiano_calcio_canale   \n20     19    117                 19_cookie_anso_it_tracciamento   \n21     20    115                     20_Musk_twitter_elon_tesla   \n22     21    112      21_turismo_turistico_vacanza_destinazione   \n23     22     95     22_sciopero_sindacato_trasporto_proclamare   \n24     23     88                      23_colore_look_abito_make   \n25     24     85               24_spaziale_luna_galassia_solare   \n26     25     70                  25_squalo_pesce_balena_specie   \n27     26     42          26_brasiliano_bolsonaro_lula_Brasilia   \n28     27     41  27_esperto_domandare_informativo_repubblicare   \n29     28     40             28_terremoto_turchia_siria_maceria   \n\n                                       Representation  \\\n0   [anno, piu, essere, fare, euro, altro, potere,...   \n1   [squadra, gara, gol, finale, partita, vincere,...   \n2   [pd, governo, melone, partito, ministro, Itali...   \n3   [ucraino, russo, Russia, Putin, Kiev, guerra, ...   \n4   [paziente, vaccino, virus, covid, tumore, infe...   \n5   [incidente, morire, ferito, morto, ospedale, c...   \n6   [nord, sud, caldo, pioggia, temperatura, tempo...   \n7   [elettrico, litro, prezzo, gas, auto, benzina,...   \n8   [film, regista, attore, cinema, Oscar, the, pr...   \n9   [Papa, papa, Francesco, vaticano, cardinale, c...   \n10  [arresto, denaro, giudice, Messina, carcere, m...   \n11  [google, intelligenza, apple, digitale, artifi...   \n12  [volo, migrante, aereo, ita, passeggero, nave,...   \n13  [scolastico, studente, scuola, docente, aborto...   \n14  [cinese, taiwan, Cina, Pechino, xi, Corea, pec...   \n15  [tasso, inflazione, rialzo, bce, calo, prezzo,...   \n16  [cane, gatto, animale, cucciolo, proprietario,...   \n17  [trump, donald, repubblicano, tycoon, Biden, Y...   \n18  [principe, Carlo, harry, regina, camilla, Re, ...   \n19  [00, primopiano, calcio, canale, abbonato, vid...   \n20  [cookie, anso, it, tracciamento, Ansa, canale,...   \n21  [Musk, twitter, elon, tesla, account, utente, ...   \n22  [turismo, turistico, vacanza, destinazione, tu...   \n23  [sciopero, sindacato, trasporto, proclamare, u...   \n24  [colore, look, abito, make, moda, indossare, c...   \n25  [spaziale, luna, galassia, solare, orbita, tel...   \n26  [squalo, pesce, balena, specie, squale, animal...   \n27  [brasiliano, bolsonaro, lula, Brasilia, Brasil...   \n28  [esperto, domandare, informativo, repubblicare...   \n29  [terremoto, turchia, siria, maceria, turco, si...   \n\n                                  Representative_Docs  \n0   [prospettiva crescito area euro deteriorato al...  \n1   [paese vai evento trovare luogo proponga Festi...  \n2   [senato russo commemorazione berlusconi aula m...  \n3   [ucraina diciassettesimo giorno guerra potente...  \n4   [chiamare tecovirimat momento farmaco riporre ...  \n5   [orsa amarena essere uccidere ieri sera fucila...  \n6   [sbalzo termico crisi primavera appena iniziar...  \n7   [girona Mazda continuare battere ferro motore ...  \n8   [mancare solo coda sirena sedurre sembrare ina...  \n9   [citta vaticano – Papa Francesco dovere rinunc...  \n10  [magistrato Procura Palermo carabiniere ros in...  \n11  [seattle motore ricerca oggi piu frenetico sfi...  \n12  [tanto viaggio speranza trasformare nuovo trag...  \n13  [fare finire oppure no compito assegnare estat...  \n14  [aereo nave guerra cinese attraversare linea m...  \n15  [cio contare economia distribuzione reddito fr...  \n16  [poco rumore straziante piangere cane diverso ...  \n17  [oggi giorno partito politico potere arrestare...  \n18  [chiudere pubblico camera ardente bara elisabe...  \n19  [social rss Facebook Twitter linkedin youtube ...  \n20  [scegliere accettare cookie diprofilazione tra...  \n21  [nuovo grana elon Musk nuovo pagina saga twitt...  \n22  [Italia turismo business cima classifica mondi...  \n23  [confederazione unitario base ( cub ) Slai cob...  \n24  [quando essere dare annuncio presenza Balencia...  \n25  [quando formare anello saturno risposta riport...  \n26  [meglio salvare qualche balena piu ostinare si...  \n27  [segretario esecutivo ministero giustizia bras...  \n28  [economia esperto casa domandare esperto esper...  \n29  [continuare salire drammatico bilancio terremo...  ",
      "text/html": "<div>\n<style scoped>\n    .dataframe tbody tr th:only-of-type {\n        vertical-align: middle;\n    }\n\n    .dataframe tbody tr th {\n        vertical-align: top;\n    }\n\n    .dataframe thead th {\n        text-align: right;\n    }\n</style>\n<table border=\"1\" class=\"dataframe\">\n  <thead>\n    <tr style=\"text-align: right;\">\n      <th></th>\n      <th>Topic</th>\n      <th>Count</th>\n      <th>Name</th>\n      <th>Representation</th>\n      <th>Representative_Docs</th>\n    </tr>\n  </thead>\n  <tbody>\n    <tr>\n      <th>0</th>\n      <td>-1</td>\n      <td>12424</td>\n      <td>-1_anno_piu_essere_fare</td>\n      <td>[anno, piu, essere, fare, euro, altro, potere,...</td>\n      <td>[prospettiva crescito area euro deteriorato al...</td>\n    </tr>\n    <tr>\n      <th>1</th>\n      <td>0</td>\n      <td>4622</td>\n      <td>0_squadra_gara_gol_finale</td>\n      <td>[squadra, gara, gol, finale, partita, vincere,...</td>\n      <td>[paese vai evento trovare luogo proponga Festi...</td>\n    </tr>\n    <tr>\n      <th>2</th>\n      <td>1</td>\n      <td>4125</td>\n      <td>1_pd_governo_melone_partito</td>\n      <td>[pd, governo, melone, partito, ministro, Itali...</td>\n      <td>[senato russo commemorazione berlusconi aula m...</td>\n    </tr>\n    <tr>\n      <th>3</th>\n      <td>2</td>\n      <td>2966</td>\n      <td>2_ucraino_russo_Russia_Putin</td>\n      <td>[ucraino, russo, Russia, Putin, Kiev, guerra, ...</td>\n      <td>[ucraina diciassettesimo giorno guerra potente...</td>\n    </tr>\n    <tr>\n      <th>4</th>\n      <td>3</td>\n      <td>696</td>\n      <td>3_paziente_vaccino_virus_covid</td>\n      <td>[paziente, vaccino, virus, covid, tumore, infe...</td>\n      <td>[chiamare tecovirimat momento farmaco riporre ...</td>\n    </tr>\n    <tr>\n      <th>5</th>\n      <td>4</td>\n      <td>661</td>\n      <td>4_incidente_morire_ferito_morto</td>\n      <td>[incidente, morire, ferito, morto, ospedale, c...</td>\n      <td>[orsa amarena essere uccidere ieri sera fucila...</td>\n    </tr>\n    <tr>\n      <th>6</th>\n      <td>5</td>\n      <td>652</td>\n      <td>5_nord_sud_caldo_pioggia</td>\n      <td>[nord, sud, caldo, pioggia, temperatura, tempo...</td>\n      <td>[sbalzo termico crisi primavera appena iniziar...</td>\n    </tr>\n    <tr>\n      <th>7</th>\n      <td>6</td>\n      <td>530</td>\n      <td>6_elettrico_litro_prezzo_gas</td>\n      <td>[elettrico, litro, prezzo, gas, auto, benzina,...</td>\n      <td>[girona Mazda continuare battere ferro motore ...</td>\n    </tr>\n    <tr>\n      <th>8</th>\n      <td>7</td>\n      <td>503</td>\n      <td>7_film_regista_attore_cinema</td>\n      <td>[film, regista, attore, cinema, Oscar, the, pr...</td>\n      <td>[mancare solo coda sirena sedurre sembrare ina...</td>\n    </tr>\n    <tr>\n      <th>9</th>\n      <td>8</td>\n      <td>500</td>\n      <td>8_Papa_papa_Francesco_vaticano</td>\n      <td>[Papa, papa, Francesco, vaticano, cardinale, c...</td>\n      <td>[citta vaticano – Papa Francesco dovere rinunc...</td>\n    </tr>\n    <tr>\n      <th>10</th>\n      <td>9</td>\n      <td>417</td>\n      <td>9_arresto_denaro_giudice_Messina</td>\n      <td>[arresto, denaro, giudice, Messina, carcere, m...</td>\n      <td>[magistrato Procura Palermo carabiniere ros in...</td>\n    </tr>\n    <tr>\n      <th>11</th>\n      <td>10</td>\n      <td>339</td>\n      <td>10_google_intelligenza_apple_digitale</td>\n      <td>[google, intelligenza, apple, digitale, artifi...</td>\n      <td>[seattle motore ricerca oggi piu frenetico sfi...</td>\n    </tr>\n    <tr>\n      <th>12</th>\n      <td>11</td>\n      <td>334</td>\n      <td>11_volo_migrante_aereo_ita</td>\n      <td>[volo, migrante, aereo, ita, passeggero, nave,...</td>\n      <td>[tanto viaggio speranza trasformare nuovo trag...</td>\n    </tr>\n    <tr>\n      <th>13</th>\n      <td>12</td>\n      <td>296</td>\n      <td>12_scolastico_studente_scuola_docente</td>\n      <td>[scolastico, studente, scuola, docente, aborto...</td>\n      <td>[fare finire oppure no compito assegnare estat...</td>\n    </tr>\n    <tr>\n      <th>14</th>\n      <td>13</td>\n      <td>288</td>\n      <td>13_cinese_taiwan_Cina_Pechino</td>\n      <td>[cinese, taiwan, Cina, Pechino, xi, Corea, pec...</td>\n      <td>[aereo nave guerra cinese attraversare linea m...</td>\n    </tr>\n    <tr>\n      <th>15</th>\n      <td>14</td>\n      <td>283</td>\n      <td>14_tasso_inflazione_rialzo_bce</td>\n      <td>[tasso, inflazione, rialzo, bce, calo, prezzo,...</td>\n      <td>[cio contare economia distribuzione reddito fr...</td>\n    </tr>\n    <tr>\n      <th>16</th>\n      <td>15</td>\n      <td>275</td>\n      <td>15_cane_gatto_animale_cucciolo</td>\n      <td>[cane, gatto, animale, cucciolo, proprietario,...</td>\n      <td>[poco rumore straziante piangere cane diverso ...</td>\n    </tr>\n    <tr>\n      <th>17</th>\n      <td>16</td>\n      <td>252</td>\n      <td>16_trump_donald_repubblicano_tycoon</td>\n      <td>[trump, donald, repubblicano, tycoon, Biden, Y...</td>\n      <td>[oggi giorno partito politico potere arrestare...</td>\n    </tr>\n    <tr>\n      <th>18</th>\n      <td>17</td>\n      <td>189</td>\n      <td>17_principe_Carlo_harry_regina</td>\n      <td>[principe, Carlo, harry, regina, camilla, Re, ...</td>\n      <td>[chiudere pubblico camera ardente bara elisabe...</td>\n    </tr>\n    <tr>\n      <th>19</th>\n      <td>18</td>\n      <td>144</td>\n      <td>18_00_primopiano_calcio_canale</td>\n      <td>[00, primopiano, calcio, canale, abbonato, vid...</td>\n      <td>[social rss Facebook Twitter linkedin youtube ...</td>\n    </tr>\n    <tr>\n      <th>20</th>\n      <td>19</td>\n      <td>117</td>\n      <td>19_cookie_anso_it_tracciamento</td>\n      <td>[cookie, anso, it, tracciamento, Ansa, canale,...</td>\n      <td>[scegliere accettare cookie diprofilazione tra...</td>\n    </tr>\n    <tr>\n      <th>21</th>\n      <td>20</td>\n      <td>115</td>\n      <td>20_Musk_twitter_elon_tesla</td>\n      <td>[Musk, twitter, elon, tesla, account, utente, ...</td>\n      <td>[nuovo grana elon Musk nuovo pagina saga twitt...</td>\n    </tr>\n    <tr>\n      <th>22</th>\n      <td>21</td>\n      <td>112</td>\n      <td>21_turismo_turistico_vacanza_destinazione</td>\n      <td>[turismo, turistico, vacanza, destinazione, tu...</td>\n      <td>[Italia turismo business cima classifica mondi...</td>\n    </tr>\n    <tr>\n      <th>23</th>\n      <td>22</td>\n      <td>95</td>\n      <td>22_sciopero_sindacato_trasporto_proclamare</td>\n      <td>[sciopero, sindacato, trasporto, proclamare, u...</td>\n      <td>[confederazione unitario base ( cub ) Slai cob...</td>\n    </tr>\n    <tr>\n      <th>24</th>\n      <td>23</td>\n      <td>88</td>\n      <td>23_colore_look_abito_make</td>\n      <td>[colore, look, abito, make, moda, indossare, c...</td>\n      <td>[quando essere dare annuncio presenza Balencia...</td>\n    </tr>\n    <tr>\n      <th>25</th>\n      <td>24</td>\n      <td>85</td>\n      <td>24_spaziale_luna_galassia_solare</td>\n      <td>[spaziale, luna, galassia, solare, orbita, tel...</td>\n      <td>[quando formare anello saturno risposta riport...</td>\n    </tr>\n    <tr>\n      <th>26</th>\n      <td>25</td>\n      <td>70</td>\n      <td>25_squalo_pesce_balena_specie</td>\n      <td>[squalo, pesce, balena, specie, squale, animal...</td>\n      <td>[meglio salvare qualche balena piu ostinare si...</td>\n    </tr>\n    <tr>\n      <th>27</th>\n      <td>26</td>\n      <td>42</td>\n      <td>26_brasiliano_bolsonaro_lula_Brasilia</td>\n      <td>[brasiliano, bolsonaro, lula, Brasilia, Brasil...</td>\n      <td>[segretario esecutivo ministero giustizia bras...</td>\n    </tr>\n    <tr>\n      <th>28</th>\n      <td>27</td>\n      <td>41</td>\n      <td>27_esperto_domandare_informativo_repubblicare</td>\n      <td>[esperto, domandare, informativo, repubblicare...</td>\n      <td>[economia esperto casa domandare esperto esper...</td>\n    </tr>\n    <tr>\n      <th>29</th>\n      <td>28</td>\n      <td>40</td>\n      <td>28_terremoto_turchia_siria_maceria</td>\n      <td>[terremoto, turchia, siria, maceria, turco, si...</td>\n      <td>[continuare salire drammatico bilancio terremo...</td>\n    </tr>\n  </tbody>\n</table>\n</div>"
     },
     "metadata": {}
    }
   ]
  },
  {
   "cell_type": "code",
   "source": [
    "topic_model.visualize_hierarchy(custom_labels=True, width=700, height=600)"
   ],
   "metadata": {
    "execution": {
     "iopub.status.busy": "2024-06-14T16:13:23.247028Z",
     "iopub.execute_input": "2024-06-14T16:13:23.247700Z",
     "iopub.status.idle": "2024-06-14T16:13:24.477766Z",
     "shell.execute_reply.started": "2024-06-14T16:13:23.247668Z",
     "shell.execute_reply": "2024-06-14T16:13:24.476885Z"
    },
    "trusted": true
   },
   "execution_count": null,
   "outputs": []
  },
  {
   "cell_type": "code",
   "source": [
    "topic_model.visualize_topics()"
   ],
   "metadata": {
    "execution": {
     "iopub.status.busy": "2024-06-16T10:22:41.774564Z",
     "iopub.execute_input": "2024-06-16T10:22:41.774942Z",
     "iopub.status.idle": "2024-06-16T10:22:50.563101Z",
     "shell.execute_reply.started": "2024-06-16T10:22:41.774907Z",
     "shell.execute_reply": "2024-06-16T10:22:50.562162Z"
    },
    "trusted": true
   },
   "execution_count": 17,
   "outputs": [
    {
     "output_type": "display_data",
     "data": {
      "text/html": "        <script type=\"text/javascript\">\n        window.PlotlyConfig = {MathJaxConfig: 'local'};\n        if (window.MathJax && window.MathJax.Hub && window.MathJax.Hub.Config) {window.MathJax.Hub.Config({SVG: {font: \"STIX-Web\"}});}\n        if (typeof require !== 'undefined') {\n        require.undef(\"plotly\");\n        requirejs.config({\n            paths: {\n                'plotly': ['https://cdn.plot.ly/plotly-2.27.0.min']\n            }\n        });\n        require(['plotly'], function(Plotly) {\n            window._Plotly = Plotly;\n        });\n        }\n        </script>\n        "
     },
     "metadata": {}
    },
    {
     "output_type": "display_data",
     "data": {
      "text/html": "<div>                            <div id=\"62ee0c9e-75d9-4ed3-8ac5-2448379f971c\" class=\"plotly-graph-div\" style=\"height:650px; width:650px;\"></div>            <script type=\"text/javascript\">                require([\"plotly\"], function(Plotly) {                    window.PLOTLYENV=window.PLOTLYENV || {};                                    if (document.getElementById(\"62ee0c9e-75d9-4ed3-8ac5-2448379f971c\")) {                    Plotly.newPlot(                        \"62ee0c9e-75d9-4ed3-8ac5-2448379f971c\",                        [{\"customdata\":[[0,\"squadra | gara | gol | finale | partita\",4622],[1,\"pd | governo | melone | partito | ministro\",4125],[2,\"ucraino | russo | Russia | Putin | Kiev\",2966],[3,\"paziente | vaccino | virus | covid | tumore\",696],[4,\"incidente | morire | ferito | morto | ospedale\",661],[5,\"nord | sud | caldo | pioggia | temperatura\",652],[6,\"elettrico | litro | prezzo | gas | auto\",530],[7,\"film | regista | attore | cinema | Oscar\",503],[8,\"Papa | papa | Francesco | vaticano | cardinale\",500],[9,\"arresto | denaro | giudice | Messina | carcere\",417],[10,\"google | intelligenza | apple | digitale | artificiale\",339],[11,\"volo | migrante | aereo | ita | passeggero\",334],[12,\"scolastico | studente | scuola | docente | aborto\",296],[13,\"cinese | taiwan | Cina | Pechino | xi\",288],[14,\"tasso | inflazione | rialzo | bce | calo\",283],[15,\"cane | gatto | animale | cucciolo | proprietario\",275],[16,\"trump | donald | repubblicano | tycoon | Biden\",252],[17,\"principe | Carlo | harry | regina | camilla\",189],[18,\"00 | primopiano | calcio | canale | abbonato\",144],[19,\"cookie | anso | it | tracciamento | Ansa\",117],[20,\"Musk | twitter | elon | tesla | account\",115],[21,\"turismo | turistico | vacanza | destinazione | turista\",112],[22,\"sciopero | sindacato | trasporto | proclamare | uil\",95],[23,\"colore | look | abito | make | moda\",88],[24,\"spaziale | luna | galassia | solare | orbita\",85],[25,\"squalo | pesce | balena | specie | squale\",70],[26,\"brasiliano | bolsonaro | lula | Brasilia | Brasile\",42],[27,\"esperto | domandare | informativo | repubblicare | it\",41],[28,\"terremoto | turchia | siria | maceria | turco\",40]],\"hovertemplate\":\"\\u003cb\\u003eTopic %{customdata[0]}\\u003c\\u002fb\\u003e\\u003cbr\\u003e%{customdata[1]}\\u003cbr\\u003eSize: %{customdata[2]}\",\"legendgroup\":\"\",\"marker\":{\"color\":\"#B0BEC5\",\"size\":[4622,4125,2966,696,661,652,530,503,500,417,339,334,296,288,283,275,252,189,144,117,115,112,95,88,85,70,42,41,40],\"sizemode\":\"area\",\"sizeref\":2.88875,\"symbol\":\"circle\",\"line\":{\"color\":\"DarkSlateGrey\",\"width\":2}},\"mode\":\"markers\",\"name\":\"\",\"orientation\":\"v\",\"showlegend\":false,\"x\":[7.6256676,0.5565637,-0.5362919,0.27588132,-12.048361,-3.291524,16.221361,7.116308,7.5299826,-11.794989,14.654307,-3.5335715,0.17907086,-0.68981624,16.333126,-7.322335,0.23187323,0.07594641,7.932157,14.865696,14.5908785,-3.5947447,-0.31818908,6.8035545,-3.7828062,-7.2982864,0.68886924,0.46833,-12.161867],\"xaxis\":\"x\",\"y\":[-7.1856694,7.5850644,7.5658793,5.8704553,-7.252521,2.1727808,-9.7707,-7.235244,-7.5138135,-6.9991536,23.738401,1.9301487,6.050618,7.6051383,-9.882449,14.179237,7.052578,7.4992776,-7.326307,23.94966,23.675018,1.8690553,6.671283,-7.4592404,1.6815342,14.155187,7.118279,7.5055275,-7.366033],\"yaxis\":\"y\",\"type\":\"scatter\"}],                        {\"template\":{\"data\":{\"barpolar\":[{\"marker\":{\"line\":{\"color\":\"white\",\"width\":0.5},\"pattern\":{\"fillmode\":\"overlay\",\"size\":10,\"solidity\":0.2}},\"type\":\"barpolar\"}],\"bar\":[{\"error_x\":{\"color\":\"rgb(36,36,36)\"},\"error_y\":{\"color\":\"rgb(36,36,36)\"},\"marker\":{\"line\":{\"color\":\"white\",\"width\":0.5},\"pattern\":{\"fillmode\":\"overlay\",\"size\":10,\"solidity\":0.2}},\"type\":\"bar\"}],\"carpet\":[{\"aaxis\":{\"endlinecolor\":\"rgb(36,36,36)\",\"gridcolor\":\"white\",\"linecolor\":\"white\",\"minorgridcolor\":\"white\",\"startlinecolor\":\"rgb(36,36,36)\"},\"baxis\":{\"endlinecolor\":\"rgb(36,36,36)\",\"gridcolor\":\"white\",\"linecolor\":\"white\",\"minorgridcolor\":\"white\",\"startlinecolor\":\"rgb(36,36,36)\"},\"type\":\"carpet\"}],\"choropleth\":[{\"colorbar\":{\"outlinewidth\":1,\"tickcolor\":\"rgb(36,36,36)\",\"ticks\":\"outside\"},\"type\":\"choropleth\"}],\"contourcarpet\":[{\"colorbar\":{\"outlinewidth\":1,\"tickcolor\":\"rgb(36,36,36)\",\"ticks\":\"outside\"},\"type\":\"contourcarpet\"}],\"contour\":[{\"colorbar\":{\"outlinewidth\":1,\"tickcolor\":\"rgb(36,36,36)\",\"ticks\":\"outside\"},\"colorscale\":[[0.0,\"#440154\"],[0.1111111111111111,\"#482878\"],[0.2222222222222222,\"#3e4989\"],[0.3333333333333333,\"#31688e\"],[0.4444444444444444,\"#26828e\"],[0.5555555555555556,\"#1f9e89\"],[0.6666666666666666,\"#35b779\"],[0.7777777777777778,\"#6ece58\"],[0.8888888888888888,\"#b5de2b\"],[1.0,\"#fde725\"]],\"type\":\"contour\"}],\"heatmapgl\":[{\"colorbar\":{\"outlinewidth\":1,\"tickcolor\":\"rgb(36,36,36)\",\"ticks\":\"outside\"},\"colorscale\":[[0.0,\"#440154\"],[0.1111111111111111,\"#482878\"],[0.2222222222222222,\"#3e4989\"],[0.3333333333333333,\"#31688e\"],[0.4444444444444444,\"#26828e\"],[0.5555555555555556,\"#1f9e89\"],[0.6666666666666666,\"#35b779\"],[0.7777777777777778,\"#6ece58\"],[0.8888888888888888,\"#b5de2b\"],[1.0,\"#fde725\"]],\"type\":\"heatmapgl\"}],\"heatmap\":[{\"colorbar\":{\"outlinewidth\":1,\"tickcolor\":\"rgb(36,36,36)\",\"ticks\":\"outside\"},\"colorscale\":[[0.0,\"#440154\"],[0.1111111111111111,\"#482878\"],[0.2222222222222222,\"#3e4989\"],[0.3333333333333333,\"#31688e\"],[0.4444444444444444,\"#26828e\"],[0.5555555555555556,\"#1f9e89\"],[0.6666666666666666,\"#35b779\"],[0.7777777777777778,\"#6ece58\"],[0.8888888888888888,\"#b5de2b\"],[1.0,\"#fde725\"]],\"type\":\"heatmap\"}],\"histogram2dcontour\":[{\"colorbar\":{\"outlinewidth\":1,\"tickcolor\":\"rgb(36,36,36)\",\"ticks\":\"outside\"},\"colorscale\":[[0.0,\"#440154\"],[0.1111111111111111,\"#482878\"],[0.2222222222222222,\"#3e4989\"],[0.3333333333333333,\"#31688e\"],[0.4444444444444444,\"#26828e\"],[0.5555555555555556,\"#1f9e89\"],[0.6666666666666666,\"#35b779\"],[0.7777777777777778,\"#6ece58\"],[0.8888888888888888,\"#b5de2b\"],[1.0,\"#fde725\"]],\"type\":\"histogram2dcontour\"}],\"histogram2d\":[{\"colorbar\":{\"outlinewidth\":1,\"tickcolor\":\"rgb(36,36,36)\",\"ticks\":\"outside\"},\"colorscale\":[[0.0,\"#440154\"],[0.1111111111111111,\"#482878\"],[0.2222222222222222,\"#3e4989\"],[0.3333333333333333,\"#31688e\"],[0.4444444444444444,\"#26828e\"],[0.5555555555555556,\"#1f9e89\"],[0.6666666666666666,\"#35b779\"],[0.7777777777777778,\"#6ece58\"],[0.8888888888888888,\"#b5de2b\"],[1.0,\"#fde725\"]],\"type\":\"histogram2d\"}],\"histogram\":[{\"marker\":{\"line\":{\"color\":\"white\",\"width\":0.6}},\"type\":\"histogram\"}],\"mesh3d\":[{\"colorbar\":{\"outlinewidth\":1,\"tickcolor\":\"rgb(36,36,36)\",\"ticks\":\"outside\"},\"type\":\"mesh3d\"}],\"parcoords\":[{\"line\":{\"colorbar\":{\"outlinewidth\":1,\"tickcolor\":\"rgb(36,36,36)\",\"ticks\":\"outside\"}},\"type\":\"parcoords\"}],\"pie\":[{\"automargin\":true,\"type\":\"pie\"}],\"scatter3d\":[{\"line\":{\"colorbar\":{\"outlinewidth\":1,\"tickcolor\":\"rgb(36,36,36)\",\"ticks\":\"outside\"}},\"marker\":{\"colorbar\":{\"outlinewidth\":1,\"tickcolor\":\"rgb(36,36,36)\",\"ticks\":\"outside\"}},\"type\":\"scatter3d\"}],\"scattercarpet\":[{\"marker\":{\"colorbar\":{\"outlinewidth\":1,\"tickcolor\":\"rgb(36,36,36)\",\"ticks\":\"outside\"}},\"type\":\"scattercarpet\"}],\"scattergeo\":[{\"marker\":{\"colorbar\":{\"outlinewidth\":1,\"tickcolor\":\"rgb(36,36,36)\",\"ticks\":\"outside\"}},\"type\":\"scattergeo\"}],\"scattergl\":[{\"marker\":{\"colorbar\":{\"outlinewidth\":1,\"tickcolor\":\"rgb(36,36,36)\",\"ticks\":\"outside\"}},\"type\":\"scattergl\"}],\"scattermapbox\":[{\"marker\":{\"colorbar\":{\"outlinewidth\":1,\"tickcolor\":\"rgb(36,36,36)\",\"ticks\":\"outside\"}},\"type\":\"scattermapbox\"}],\"scatterpolargl\":[{\"marker\":{\"colorbar\":{\"outlinewidth\":1,\"tickcolor\":\"rgb(36,36,36)\",\"ticks\":\"outside\"}},\"type\":\"scatterpolargl\"}],\"scatterpolar\":[{\"marker\":{\"colorbar\":{\"outlinewidth\":1,\"tickcolor\":\"rgb(36,36,36)\",\"ticks\":\"outside\"}},\"type\":\"scatterpolar\"}],\"scatter\":[{\"fillpattern\":{\"fillmode\":\"overlay\",\"size\":10,\"solidity\":0.2},\"type\":\"scatter\"}],\"scatterternary\":[{\"marker\":{\"colorbar\":{\"outlinewidth\":1,\"tickcolor\":\"rgb(36,36,36)\",\"ticks\":\"outside\"}},\"type\":\"scatterternary\"}],\"surface\":[{\"colorbar\":{\"outlinewidth\":1,\"tickcolor\":\"rgb(36,36,36)\",\"ticks\":\"outside\"},\"colorscale\":[[0.0,\"#440154\"],[0.1111111111111111,\"#482878\"],[0.2222222222222222,\"#3e4989\"],[0.3333333333333333,\"#31688e\"],[0.4444444444444444,\"#26828e\"],[0.5555555555555556,\"#1f9e89\"],[0.6666666666666666,\"#35b779\"],[0.7777777777777778,\"#6ece58\"],[0.8888888888888888,\"#b5de2b\"],[1.0,\"#fde725\"]],\"type\":\"surface\"}],\"table\":[{\"cells\":{\"fill\":{\"color\":\"rgb(237,237,237)\"},\"line\":{\"color\":\"white\"}},\"header\":{\"fill\":{\"color\":\"rgb(217,217,217)\"},\"line\":{\"color\":\"white\"}},\"type\":\"table\"}]},\"layout\":{\"annotationdefaults\":{\"arrowhead\":0,\"arrowwidth\":1},\"autotypenumbers\":\"strict\",\"coloraxis\":{\"colorbar\":{\"outlinewidth\":1,\"tickcolor\":\"rgb(36,36,36)\",\"ticks\":\"outside\"}},\"colorscale\":{\"diverging\":[[0.0,\"rgb(103,0,31)\"],[0.1,\"rgb(178,24,43)\"],[0.2,\"rgb(214,96,77)\"],[0.3,\"rgb(244,165,130)\"],[0.4,\"rgb(253,219,199)\"],[0.5,\"rgb(247,247,247)\"],[0.6,\"rgb(209,229,240)\"],[0.7,\"rgb(146,197,222)\"],[0.8,\"rgb(67,147,195)\"],[0.9,\"rgb(33,102,172)\"],[1.0,\"rgb(5,48,97)\"]],\"sequential\":[[0.0,\"#440154\"],[0.1111111111111111,\"#482878\"],[0.2222222222222222,\"#3e4989\"],[0.3333333333333333,\"#31688e\"],[0.4444444444444444,\"#26828e\"],[0.5555555555555556,\"#1f9e89\"],[0.6666666666666666,\"#35b779\"],[0.7777777777777778,\"#6ece58\"],[0.8888888888888888,\"#b5de2b\"],[1.0,\"#fde725\"]],\"sequentialminus\":[[0.0,\"#440154\"],[0.1111111111111111,\"#482878\"],[0.2222222222222222,\"#3e4989\"],[0.3333333333333333,\"#31688e\"],[0.4444444444444444,\"#26828e\"],[0.5555555555555556,\"#1f9e89\"],[0.6666666666666666,\"#35b779\"],[0.7777777777777778,\"#6ece58\"],[0.8888888888888888,\"#b5de2b\"],[1.0,\"#fde725\"]]},\"colorway\":[\"#1F77B4\",\"#FF7F0E\",\"#2CA02C\",\"#D62728\",\"#9467BD\",\"#8C564B\",\"#E377C2\",\"#7F7F7F\",\"#BCBD22\",\"#17BECF\"],\"font\":{\"color\":\"rgb(36,36,36)\"},\"geo\":{\"bgcolor\":\"white\",\"lakecolor\":\"white\",\"landcolor\":\"white\",\"showlakes\":true,\"showland\":true,\"subunitcolor\":\"white\"},\"hoverlabel\":{\"align\":\"left\"},\"hovermode\":\"closest\",\"mapbox\":{\"style\":\"light\"},\"paper_bgcolor\":\"white\",\"plot_bgcolor\":\"white\",\"polar\":{\"angularaxis\":{\"gridcolor\":\"rgb(232,232,232)\",\"linecolor\":\"rgb(36,36,36)\",\"showgrid\":false,\"showline\":true,\"ticks\":\"outside\"},\"bgcolor\":\"white\",\"radialaxis\":{\"gridcolor\":\"rgb(232,232,232)\",\"linecolor\":\"rgb(36,36,36)\",\"showgrid\":false,\"showline\":true,\"ticks\":\"outside\"}},\"scene\":{\"xaxis\":{\"backgroundcolor\":\"white\",\"gridcolor\":\"rgb(232,232,232)\",\"gridwidth\":2,\"linecolor\":\"rgb(36,36,36)\",\"showbackground\":true,\"showgrid\":false,\"showline\":true,\"ticks\":\"outside\",\"zeroline\":false,\"zerolinecolor\":\"rgb(36,36,36)\"},\"yaxis\":{\"backgroundcolor\":\"white\",\"gridcolor\":\"rgb(232,232,232)\",\"gridwidth\":2,\"linecolor\":\"rgb(36,36,36)\",\"showbackground\":true,\"showgrid\":false,\"showline\":true,\"ticks\":\"outside\",\"zeroline\":false,\"zerolinecolor\":\"rgb(36,36,36)\"},\"zaxis\":{\"backgroundcolor\":\"white\",\"gridcolor\":\"rgb(232,232,232)\",\"gridwidth\":2,\"linecolor\":\"rgb(36,36,36)\",\"showbackground\":true,\"showgrid\":false,\"showline\":true,\"ticks\":\"outside\",\"zeroline\":false,\"zerolinecolor\":\"rgb(36,36,36)\"}},\"shapedefaults\":{\"fillcolor\":\"black\",\"line\":{\"width\":0},\"opacity\":0.3},\"ternary\":{\"aaxis\":{\"gridcolor\":\"rgb(232,232,232)\",\"linecolor\":\"rgb(36,36,36)\",\"showgrid\":false,\"showline\":true,\"ticks\":\"outside\"},\"baxis\":{\"gridcolor\":\"rgb(232,232,232)\",\"linecolor\":\"rgb(36,36,36)\",\"showgrid\":false,\"showline\":true,\"ticks\":\"outside\"},\"bgcolor\":\"white\",\"caxis\":{\"gridcolor\":\"rgb(232,232,232)\",\"linecolor\":\"rgb(36,36,36)\",\"showgrid\":false,\"showline\":true,\"ticks\":\"outside\"}},\"title\":{\"x\":0.05},\"xaxis\":{\"automargin\":true,\"gridcolor\":\"rgb(232,232,232)\",\"linecolor\":\"rgb(36,36,36)\",\"showgrid\":false,\"showline\":true,\"ticks\":\"outside\",\"title\":{\"standoff\":15},\"zeroline\":false,\"zerolinecolor\":\"rgb(36,36,36)\"},\"yaxis\":{\"automargin\":true,\"gridcolor\":\"rgb(232,232,232)\",\"linecolor\":\"rgb(36,36,36)\",\"showgrid\":false,\"showline\":true,\"ticks\":\"outside\",\"title\":{\"standoff\":15},\"zeroline\":false,\"zerolinecolor\":\"rgb(36,36,36)\"}}},\"xaxis\":{\"anchor\":\"y\",\"domain\":[0.0,1.0],\"title\":{\"text\":\"\"},\"visible\":false,\"range\":[-13.986147212982178,18.78309497833252]},\"yaxis\":{\"anchor\":\"x\",\"domain\":[0.0,1.0],\"title\":{\"text\":\"\"},\"visible\":false,\"range\":[-11.364816522598266,27.542108249664306]},\"legend\":{\"tracegroupgap\":0,\"itemsizing\":\"constant\"},\"margin\":{\"t\":60},\"title\":{\"font\":{\"size\":22,\"color\":\"Black\"},\"text\":\"\\u003cb\\u003eIntertopic Distance Map\\u003c\\u002fb\\u003e\",\"y\":0.95,\"x\":0.5,\"xanchor\":\"center\",\"yanchor\":\"top\"},\"hoverlabel\":{\"font\":{\"size\":16,\"family\":\"Rockwell\"},\"bgcolor\":\"white\"},\"width\":650,\"height\":650,\"sliders\":[{\"active\":0,\"pad\":{\"t\":50},\"steps\":[{\"args\":[{\"marker.color\":[[\"red\",\"#B0BEC5\",\"#B0BEC5\",\"#B0BEC5\",\"#B0BEC5\",\"#B0BEC5\",\"#B0BEC5\",\"#B0BEC5\",\"#B0BEC5\",\"#B0BEC5\",\"#B0BEC5\",\"#B0BEC5\",\"#B0BEC5\",\"#B0BEC5\",\"#B0BEC5\",\"#B0BEC5\",\"#B0BEC5\",\"#B0BEC5\",\"#B0BEC5\",\"#B0BEC5\",\"#B0BEC5\",\"#B0BEC5\",\"#B0BEC5\",\"#B0BEC5\",\"#B0BEC5\",\"#B0BEC5\",\"#B0BEC5\",\"#B0BEC5\",\"#B0BEC5\"]]}],\"label\":\"Topic 0\",\"method\":\"update\"},{\"args\":[{\"marker.color\":[[\"#B0BEC5\",\"red\",\"#B0BEC5\",\"#B0BEC5\",\"#B0BEC5\",\"#B0BEC5\",\"#B0BEC5\",\"#B0BEC5\",\"#B0BEC5\",\"#B0BEC5\",\"#B0BEC5\",\"#B0BEC5\",\"#B0BEC5\",\"#B0BEC5\",\"#B0BEC5\",\"#B0BEC5\",\"#B0BEC5\",\"#B0BEC5\",\"#B0BEC5\",\"#B0BEC5\",\"#B0BEC5\",\"#B0BEC5\",\"#B0BEC5\",\"#B0BEC5\",\"#B0BEC5\",\"#B0BEC5\",\"#B0BEC5\",\"#B0BEC5\",\"#B0BEC5\"]]}],\"label\":\"Topic 1\",\"method\":\"update\"},{\"args\":[{\"marker.color\":[[\"#B0BEC5\",\"#B0BEC5\",\"red\",\"#B0BEC5\",\"#B0BEC5\",\"#B0BEC5\",\"#B0BEC5\",\"#B0BEC5\",\"#B0BEC5\",\"#B0BEC5\",\"#B0BEC5\",\"#B0BEC5\",\"#B0BEC5\",\"#B0BEC5\",\"#B0BEC5\",\"#B0BEC5\",\"#B0BEC5\",\"#B0BEC5\",\"#B0BEC5\",\"#B0BEC5\",\"#B0BEC5\",\"#B0BEC5\",\"#B0BEC5\",\"#B0BEC5\",\"#B0BEC5\",\"#B0BEC5\",\"#B0BEC5\",\"#B0BEC5\",\"#B0BEC5\"]]}],\"label\":\"Topic 2\",\"method\":\"update\"},{\"args\":[{\"marker.color\":[[\"#B0BEC5\",\"#B0BEC5\",\"#B0BEC5\",\"red\",\"#B0BEC5\",\"#B0BEC5\",\"#B0BEC5\",\"#B0BEC5\",\"#B0BEC5\",\"#B0BEC5\",\"#B0BEC5\",\"#B0BEC5\",\"#B0BEC5\",\"#B0BEC5\",\"#B0BEC5\",\"#B0BEC5\",\"#B0BEC5\",\"#B0BEC5\",\"#B0BEC5\",\"#B0BEC5\",\"#B0BEC5\",\"#B0BEC5\",\"#B0BEC5\",\"#B0BEC5\",\"#B0BEC5\",\"#B0BEC5\",\"#B0BEC5\",\"#B0BEC5\",\"#B0BEC5\"]]}],\"label\":\"Topic 3\",\"method\":\"update\"},{\"args\":[{\"marker.color\":[[\"#B0BEC5\",\"#B0BEC5\",\"#B0BEC5\",\"#B0BEC5\",\"red\",\"#B0BEC5\",\"#B0BEC5\",\"#B0BEC5\",\"#B0BEC5\",\"#B0BEC5\",\"#B0BEC5\",\"#B0BEC5\",\"#B0BEC5\",\"#B0BEC5\",\"#B0BEC5\",\"#B0BEC5\",\"#B0BEC5\",\"#B0BEC5\",\"#B0BEC5\",\"#B0BEC5\",\"#B0BEC5\",\"#B0BEC5\",\"#B0BEC5\",\"#B0BEC5\",\"#B0BEC5\",\"#B0BEC5\",\"#B0BEC5\",\"#B0BEC5\",\"#B0BEC5\"]]}],\"label\":\"Topic 4\",\"method\":\"update\"},{\"args\":[{\"marker.color\":[[\"#B0BEC5\",\"#B0BEC5\",\"#B0BEC5\",\"#B0BEC5\",\"#B0BEC5\",\"red\",\"#B0BEC5\",\"#B0BEC5\",\"#B0BEC5\",\"#B0BEC5\",\"#B0BEC5\",\"#B0BEC5\",\"#B0BEC5\",\"#B0BEC5\",\"#B0BEC5\",\"#B0BEC5\",\"#B0BEC5\",\"#B0BEC5\",\"#B0BEC5\",\"#B0BEC5\",\"#B0BEC5\",\"#B0BEC5\",\"#B0BEC5\",\"#B0BEC5\",\"#B0BEC5\",\"#B0BEC5\",\"#B0BEC5\",\"#B0BEC5\",\"#B0BEC5\"]]}],\"label\":\"Topic 5\",\"method\":\"update\"},{\"args\":[{\"marker.color\":[[\"#B0BEC5\",\"#B0BEC5\",\"#B0BEC5\",\"#B0BEC5\",\"#B0BEC5\",\"#B0BEC5\",\"red\",\"#B0BEC5\",\"#B0BEC5\",\"#B0BEC5\",\"#B0BEC5\",\"#B0BEC5\",\"#B0BEC5\",\"#B0BEC5\",\"#B0BEC5\",\"#B0BEC5\",\"#B0BEC5\",\"#B0BEC5\",\"#B0BEC5\",\"#B0BEC5\",\"#B0BEC5\",\"#B0BEC5\",\"#B0BEC5\",\"#B0BEC5\",\"#B0BEC5\",\"#B0BEC5\",\"#B0BEC5\",\"#B0BEC5\",\"#B0BEC5\"]]}],\"label\":\"Topic 6\",\"method\":\"update\"},{\"args\":[{\"marker.color\":[[\"#B0BEC5\",\"#B0BEC5\",\"#B0BEC5\",\"#B0BEC5\",\"#B0BEC5\",\"#B0BEC5\",\"#B0BEC5\",\"red\",\"#B0BEC5\",\"#B0BEC5\",\"#B0BEC5\",\"#B0BEC5\",\"#B0BEC5\",\"#B0BEC5\",\"#B0BEC5\",\"#B0BEC5\",\"#B0BEC5\",\"#B0BEC5\",\"#B0BEC5\",\"#B0BEC5\",\"#B0BEC5\",\"#B0BEC5\",\"#B0BEC5\",\"#B0BEC5\",\"#B0BEC5\",\"#B0BEC5\",\"#B0BEC5\",\"#B0BEC5\",\"#B0BEC5\"]]}],\"label\":\"Topic 7\",\"method\":\"update\"},{\"args\":[{\"marker.color\":[[\"#B0BEC5\",\"#B0BEC5\",\"#B0BEC5\",\"#B0BEC5\",\"#B0BEC5\",\"#B0BEC5\",\"#B0BEC5\",\"#B0BEC5\",\"red\",\"#B0BEC5\",\"#B0BEC5\",\"#B0BEC5\",\"#B0BEC5\",\"#B0BEC5\",\"#B0BEC5\",\"#B0BEC5\",\"#B0BEC5\",\"#B0BEC5\",\"#B0BEC5\",\"#B0BEC5\",\"#B0BEC5\",\"#B0BEC5\",\"#B0BEC5\",\"#B0BEC5\",\"#B0BEC5\",\"#B0BEC5\",\"#B0BEC5\",\"#B0BEC5\",\"#B0BEC5\"]]}],\"label\":\"Topic 8\",\"method\":\"update\"},{\"args\":[{\"marker.color\":[[\"#B0BEC5\",\"#B0BEC5\",\"#B0BEC5\",\"#B0BEC5\",\"#B0BEC5\",\"#B0BEC5\",\"#B0BEC5\",\"#B0BEC5\",\"#B0BEC5\",\"red\",\"#B0BEC5\",\"#B0BEC5\",\"#B0BEC5\",\"#B0BEC5\",\"#B0BEC5\",\"#B0BEC5\",\"#B0BEC5\",\"#B0BEC5\",\"#B0BEC5\",\"#B0BEC5\",\"#B0BEC5\",\"#B0BEC5\",\"#B0BEC5\",\"#B0BEC5\",\"#B0BEC5\",\"#B0BEC5\",\"#B0BEC5\",\"#B0BEC5\",\"#B0BEC5\"]]}],\"label\":\"Topic 9\",\"method\":\"update\"},{\"args\":[{\"marker.color\":[[\"#B0BEC5\",\"#B0BEC5\",\"#B0BEC5\",\"#B0BEC5\",\"#B0BEC5\",\"#B0BEC5\",\"#B0BEC5\",\"#B0BEC5\",\"#B0BEC5\",\"#B0BEC5\",\"red\",\"#B0BEC5\",\"#B0BEC5\",\"#B0BEC5\",\"#B0BEC5\",\"#B0BEC5\",\"#B0BEC5\",\"#B0BEC5\",\"#B0BEC5\",\"#B0BEC5\",\"#B0BEC5\",\"#B0BEC5\",\"#B0BEC5\",\"#B0BEC5\",\"#B0BEC5\",\"#B0BEC5\",\"#B0BEC5\",\"#B0BEC5\",\"#B0BEC5\"]]}],\"label\":\"Topic 10\",\"method\":\"update\"},{\"args\":[{\"marker.color\":[[\"#B0BEC5\",\"#B0BEC5\",\"#B0BEC5\",\"#B0BEC5\",\"#B0BEC5\",\"#B0BEC5\",\"#B0BEC5\",\"#B0BEC5\",\"#B0BEC5\",\"#B0BEC5\",\"#B0BEC5\",\"red\",\"#B0BEC5\",\"#B0BEC5\",\"#B0BEC5\",\"#B0BEC5\",\"#B0BEC5\",\"#B0BEC5\",\"#B0BEC5\",\"#B0BEC5\",\"#B0BEC5\",\"#B0BEC5\",\"#B0BEC5\",\"#B0BEC5\",\"#B0BEC5\",\"#B0BEC5\",\"#B0BEC5\",\"#B0BEC5\",\"#B0BEC5\"]]}],\"label\":\"Topic 11\",\"method\":\"update\"},{\"args\":[{\"marker.color\":[[\"#B0BEC5\",\"#B0BEC5\",\"#B0BEC5\",\"#B0BEC5\",\"#B0BEC5\",\"#B0BEC5\",\"#B0BEC5\",\"#B0BEC5\",\"#B0BEC5\",\"#B0BEC5\",\"#B0BEC5\",\"#B0BEC5\",\"red\",\"#B0BEC5\",\"#B0BEC5\",\"#B0BEC5\",\"#B0BEC5\",\"#B0BEC5\",\"#B0BEC5\",\"#B0BEC5\",\"#B0BEC5\",\"#B0BEC5\",\"#B0BEC5\",\"#B0BEC5\",\"#B0BEC5\",\"#B0BEC5\",\"#B0BEC5\",\"#B0BEC5\",\"#B0BEC5\"]]}],\"label\":\"Topic 12\",\"method\":\"update\"},{\"args\":[{\"marker.color\":[[\"#B0BEC5\",\"#B0BEC5\",\"#B0BEC5\",\"#B0BEC5\",\"#B0BEC5\",\"#B0BEC5\",\"#B0BEC5\",\"#B0BEC5\",\"#B0BEC5\",\"#B0BEC5\",\"#B0BEC5\",\"#B0BEC5\",\"#B0BEC5\",\"red\",\"#B0BEC5\",\"#B0BEC5\",\"#B0BEC5\",\"#B0BEC5\",\"#B0BEC5\",\"#B0BEC5\",\"#B0BEC5\",\"#B0BEC5\",\"#B0BEC5\",\"#B0BEC5\",\"#B0BEC5\",\"#B0BEC5\",\"#B0BEC5\",\"#B0BEC5\",\"#B0BEC5\"]]}],\"label\":\"Topic 13\",\"method\":\"update\"},{\"args\":[{\"marker.color\":[[\"#B0BEC5\",\"#B0BEC5\",\"#B0BEC5\",\"#B0BEC5\",\"#B0BEC5\",\"#B0BEC5\",\"#B0BEC5\",\"#B0BEC5\",\"#B0BEC5\",\"#B0BEC5\",\"#B0BEC5\",\"#B0BEC5\",\"#B0BEC5\",\"#B0BEC5\",\"red\",\"#B0BEC5\",\"#B0BEC5\",\"#B0BEC5\",\"#B0BEC5\",\"#B0BEC5\",\"#B0BEC5\",\"#B0BEC5\",\"#B0BEC5\",\"#B0BEC5\",\"#B0BEC5\",\"#B0BEC5\",\"#B0BEC5\",\"#B0BEC5\",\"#B0BEC5\"]]}],\"label\":\"Topic 14\",\"method\":\"update\"},{\"args\":[{\"marker.color\":[[\"#B0BEC5\",\"#B0BEC5\",\"#B0BEC5\",\"#B0BEC5\",\"#B0BEC5\",\"#B0BEC5\",\"#B0BEC5\",\"#B0BEC5\",\"#B0BEC5\",\"#B0BEC5\",\"#B0BEC5\",\"#B0BEC5\",\"#B0BEC5\",\"#B0BEC5\",\"#B0BEC5\",\"red\",\"#B0BEC5\",\"#B0BEC5\",\"#B0BEC5\",\"#B0BEC5\",\"#B0BEC5\",\"#B0BEC5\",\"#B0BEC5\",\"#B0BEC5\",\"#B0BEC5\",\"#B0BEC5\",\"#B0BEC5\",\"#B0BEC5\",\"#B0BEC5\"]]}],\"label\":\"Topic 15\",\"method\":\"update\"},{\"args\":[{\"marker.color\":[[\"#B0BEC5\",\"#B0BEC5\",\"#B0BEC5\",\"#B0BEC5\",\"#B0BEC5\",\"#B0BEC5\",\"#B0BEC5\",\"#B0BEC5\",\"#B0BEC5\",\"#B0BEC5\",\"#B0BEC5\",\"#B0BEC5\",\"#B0BEC5\",\"#B0BEC5\",\"#B0BEC5\",\"#B0BEC5\",\"red\",\"#B0BEC5\",\"#B0BEC5\",\"#B0BEC5\",\"#B0BEC5\",\"#B0BEC5\",\"#B0BEC5\",\"#B0BEC5\",\"#B0BEC5\",\"#B0BEC5\",\"#B0BEC5\",\"#B0BEC5\",\"#B0BEC5\"]]}],\"label\":\"Topic 16\",\"method\":\"update\"},{\"args\":[{\"marker.color\":[[\"#B0BEC5\",\"#B0BEC5\",\"#B0BEC5\",\"#B0BEC5\",\"#B0BEC5\",\"#B0BEC5\",\"#B0BEC5\",\"#B0BEC5\",\"#B0BEC5\",\"#B0BEC5\",\"#B0BEC5\",\"#B0BEC5\",\"#B0BEC5\",\"#B0BEC5\",\"#B0BEC5\",\"#B0BEC5\",\"#B0BEC5\",\"red\",\"#B0BEC5\",\"#B0BEC5\",\"#B0BEC5\",\"#B0BEC5\",\"#B0BEC5\",\"#B0BEC5\",\"#B0BEC5\",\"#B0BEC5\",\"#B0BEC5\",\"#B0BEC5\",\"#B0BEC5\"]]}],\"label\":\"Topic 17\",\"method\":\"update\"},{\"args\":[{\"marker.color\":[[\"#B0BEC5\",\"#B0BEC5\",\"#B0BEC5\",\"#B0BEC5\",\"#B0BEC5\",\"#B0BEC5\",\"#B0BEC5\",\"#B0BEC5\",\"#B0BEC5\",\"#B0BEC5\",\"#B0BEC5\",\"#B0BEC5\",\"#B0BEC5\",\"#B0BEC5\",\"#B0BEC5\",\"#B0BEC5\",\"#B0BEC5\",\"#B0BEC5\",\"red\",\"#B0BEC5\",\"#B0BEC5\",\"#B0BEC5\",\"#B0BEC5\",\"#B0BEC5\",\"#B0BEC5\",\"#B0BEC5\",\"#B0BEC5\",\"#B0BEC5\",\"#B0BEC5\"]]}],\"label\":\"Topic 18\",\"method\":\"update\"},{\"args\":[{\"marker.color\":[[\"#B0BEC5\",\"#B0BEC5\",\"#B0BEC5\",\"#B0BEC5\",\"#B0BEC5\",\"#B0BEC5\",\"#B0BEC5\",\"#B0BEC5\",\"#B0BEC5\",\"#B0BEC5\",\"#B0BEC5\",\"#B0BEC5\",\"#B0BEC5\",\"#B0BEC5\",\"#B0BEC5\",\"#B0BEC5\",\"#B0BEC5\",\"#B0BEC5\",\"#B0BEC5\",\"red\",\"#B0BEC5\",\"#B0BEC5\",\"#B0BEC5\",\"#B0BEC5\",\"#B0BEC5\",\"#B0BEC5\",\"#B0BEC5\",\"#B0BEC5\",\"#B0BEC5\"]]}],\"label\":\"Topic 19\",\"method\":\"update\"},{\"args\":[{\"marker.color\":[[\"#B0BEC5\",\"#B0BEC5\",\"#B0BEC5\",\"#B0BEC5\",\"#B0BEC5\",\"#B0BEC5\",\"#B0BEC5\",\"#B0BEC5\",\"#B0BEC5\",\"#B0BEC5\",\"#B0BEC5\",\"#B0BEC5\",\"#B0BEC5\",\"#B0BEC5\",\"#B0BEC5\",\"#B0BEC5\",\"#B0BEC5\",\"#B0BEC5\",\"#B0BEC5\",\"#B0BEC5\",\"red\",\"#B0BEC5\",\"#B0BEC5\",\"#B0BEC5\",\"#B0BEC5\",\"#B0BEC5\",\"#B0BEC5\",\"#B0BEC5\",\"#B0BEC5\"]]}],\"label\":\"Topic 20\",\"method\":\"update\"},{\"args\":[{\"marker.color\":[[\"#B0BEC5\",\"#B0BEC5\",\"#B0BEC5\",\"#B0BEC5\",\"#B0BEC5\",\"#B0BEC5\",\"#B0BEC5\",\"#B0BEC5\",\"#B0BEC5\",\"#B0BEC5\",\"#B0BEC5\",\"#B0BEC5\",\"#B0BEC5\",\"#B0BEC5\",\"#B0BEC5\",\"#B0BEC5\",\"#B0BEC5\",\"#B0BEC5\",\"#B0BEC5\",\"#B0BEC5\",\"#B0BEC5\",\"red\",\"#B0BEC5\",\"#B0BEC5\",\"#B0BEC5\",\"#B0BEC5\",\"#B0BEC5\",\"#B0BEC5\",\"#B0BEC5\"]]}],\"label\":\"Topic 21\",\"method\":\"update\"},{\"args\":[{\"marker.color\":[[\"#B0BEC5\",\"#B0BEC5\",\"#B0BEC5\",\"#B0BEC5\",\"#B0BEC5\",\"#B0BEC5\",\"#B0BEC5\",\"#B0BEC5\",\"#B0BEC5\",\"#B0BEC5\",\"#B0BEC5\",\"#B0BEC5\",\"#B0BEC5\",\"#B0BEC5\",\"#B0BEC5\",\"#B0BEC5\",\"#B0BEC5\",\"#B0BEC5\",\"#B0BEC5\",\"#B0BEC5\",\"#B0BEC5\",\"#B0BEC5\",\"red\",\"#B0BEC5\",\"#B0BEC5\",\"#B0BEC5\",\"#B0BEC5\",\"#B0BEC5\",\"#B0BEC5\"]]}],\"label\":\"Topic 22\",\"method\":\"update\"},{\"args\":[{\"marker.color\":[[\"#B0BEC5\",\"#B0BEC5\",\"#B0BEC5\",\"#B0BEC5\",\"#B0BEC5\",\"#B0BEC5\",\"#B0BEC5\",\"#B0BEC5\",\"#B0BEC5\",\"#B0BEC5\",\"#B0BEC5\",\"#B0BEC5\",\"#B0BEC5\",\"#B0BEC5\",\"#B0BEC5\",\"#B0BEC5\",\"#B0BEC5\",\"#B0BEC5\",\"#B0BEC5\",\"#B0BEC5\",\"#B0BEC5\",\"#B0BEC5\",\"#B0BEC5\",\"red\",\"#B0BEC5\",\"#B0BEC5\",\"#B0BEC5\",\"#B0BEC5\",\"#B0BEC5\"]]}],\"label\":\"Topic 23\",\"method\":\"update\"},{\"args\":[{\"marker.color\":[[\"#B0BEC5\",\"#B0BEC5\",\"#B0BEC5\",\"#B0BEC5\",\"#B0BEC5\",\"#B0BEC5\",\"#B0BEC5\",\"#B0BEC5\",\"#B0BEC5\",\"#B0BEC5\",\"#B0BEC5\",\"#B0BEC5\",\"#B0BEC5\",\"#B0BEC5\",\"#B0BEC5\",\"#B0BEC5\",\"#B0BEC5\",\"#B0BEC5\",\"#B0BEC5\",\"#B0BEC5\",\"#B0BEC5\",\"#B0BEC5\",\"#B0BEC5\",\"#B0BEC5\",\"red\",\"#B0BEC5\",\"#B0BEC5\",\"#B0BEC5\",\"#B0BEC5\"]]}],\"label\":\"Topic 24\",\"method\":\"update\"},{\"args\":[{\"marker.color\":[[\"#B0BEC5\",\"#B0BEC5\",\"#B0BEC5\",\"#B0BEC5\",\"#B0BEC5\",\"#B0BEC5\",\"#B0BEC5\",\"#B0BEC5\",\"#B0BEC5\",\"#B0BEC5\",\"#B0BEC5\",\"#B0BEC5\",\"#B0BEC5\",\"#B0BEC5\",\"#B0BEC5\",\"#B0BEC5\",\"#B0BEC5\",\"#B0BEC5\",\"#B0BEC5\",\"#B0BEC5\",\"#B0BEC5\",\"#B0BEC5\",\"#B0BEC5\",\"#B0BEC5\",\"#B0BEC5\",\"red\",\"#B0BEC5\",\"#B0BEC5\",\"#B0BEC5\"]]}],\"label\":\"Topic 25\",\"method\":\"update\"},{\"args\":[{\"marker.color\":[[\"#B0BEC5\",\"#B0BEC5\",\"#B0BEC5\",\"#B0BEC5\",\"#B0BEC5\",\"#B0BEC5\",\"#B0BEC5\",\"#B0BEC5\",\"#B0BEC5\",\"#B0BEC5\",\"#B0BEC5\",\"#B0BEC5\",\"#B0BEC5\",\"#B0BEC5\",\"#B0BEC5\",\"#B0BEC5\",\"#B0BEC5\",\"#B0BEC5\",\"#B0BEC5\",\"#B0BEC5\",\"#B0BEC5\",\"#B0BEC5\",\"#B0BEC5\",\"#B0BEC5\",\"#B0BEC5\",\"#B0BEC5\",\"red\",\"#B0BEC5\",\"#B0BEC5\"]]}],\"label\":\"Topic 26\",\"method\":\"update\"},{\"args\":[{\"marker.color\":[[\"#B0BEC5\",\"#B0BEC5\",\"#B0BEC5\",\"#B0BEC5\",\"#B0BEC5\",\"#B0BEC5\",\"#B0BEC5\",\"#B0BEC5\",\"#B0BEC5\",\"#B0BEC5\",\"#B0BEC5\",\"#B0BEC5\",\"#B0BEC5\",\"#B0BEC5\",\"#B0BEC5\",\"#B0BEC5\",\"#B0BEC5\",\"#B0BEC5\",\"#B0BEC5\",\"#B0BEC5\",\"#B0BEC5\",\"#B0BEC5\",\"#B0BEC5\",\"#B0BEC5\",\"#B0BEC5\",\"#B0BEC5\",\"#B0BEC5\",\"red\",\"#B0BEC5\"]]}],\"label\":\"Topic 27\",\"method\":\"update\"},{\"args\":[{\"marker.color\":[[\"#B0BEC5\",\"#B0BEC5\",\"#B0BEC5\",\"#B0BEC5\",\"#B0BEC5\",\"#B0BEC5\",\"#B0BEC5\",\"#B0BEC5\",\"#B0BEC5\",\"#B0BEC5\",\"#B0BEC5\",\"#B0BEC5\",\"#B0BEC5\",\"#B0BEC5\",\"#B0BEC5\",\"#B0BEC5\",\"#B0BEC5\",\"#B0BEC5\",\"#B0BEC5\",\"#B0BEC5\",\"#B0BEC5\",\"#B0BEC5\",\"#B0BEC5\",\"#B0BEC5\",\"#B0BEC5\",\"#B0BEC5\",\"#B0BEC5\",\"#B0BEC5\",\"red\"]]}],\"label\":\"Topic 28\",\"method\":\"update\"}]}],\"shapes\":[{\"line\":{\"color\":\"#CFD8DC\",\"width\":2},\"type\":\"line\",\"x0\":2.3984738826751713,\"x1\":2.3984738826751713,\"y0\":-11.364816522598266,\"y1\":27.542108249664306},{\"line\":{\"color\":\"#9E9E9E\",\"width\":2},\"type\":\"line\",\"x0\":-13.986147212982178,\"x1\":18.78309497833252,\"y0\":8.08864586353302,\"y1\":8.08864586353302}],\"annotations\":[{\"showarrow\":false,\"text\":\"D1\",\"x\":-13.986147212982178,\"y\":8.08864586353302,\"yshift\":10},{\"showarrow\":false,\"text\":\"D2\",\"x\":2.3984738826751713,\"xshift\":10,\"y\":27.542108249664306}]},                        {\"responsive\": true}                    ).then(function(){\n                            \nvar gd = document.getElementById('62ee0c9e-75d9-4ed3-8ac5-2448379f971c');\nvar x = new MutationObserver(function (mutations, observer) {{\n        var display = window.getComputedStyle(gd).display;\n        if (!display || display === 'none') {{\n            console.log([gd, 'removed!']);\n            Plotly.purge(gd);\n            observer.disconnect();\n        }}\n}});\n\n// Listen for the removal of the full notebook cells\nvar notebookContainer = gd.closest('#notebook-container');\nif (notebookContainer) {{\n    x.observe(notebookContainer, {childList: true});\n}}\n\n// Listen for the clearing of the current output cell\nvar outputEl = gd.closest('.output');\nif (outputEl) {{\n    x.observe(outputEl, {childList: true});\n}}\n\n                        })                };                });            </script>        </div>"
     },
     "metadata": {}
    }
   ]
  },
  {
   "cell_type": "code",
   "source": [
    "embeddings = embedding_model.encode(text_processed_series, show_progress_bar=False)"
   ],
   "metadata": {
    "execution": {
     "iopub.status.busy": "2024-06-14T16:15:01.425943Z",
     "iopub.execute_input": "2024-06-14T16:15:01.426300Z",
     "iopub.status.idle": "2024-06-14T16:16:13.154242Z",
     "shell.execute_reply.started": "2024-06-14T16:15:01.426266Z",
     "shell.execute_reply": "2024-06-14T16:16:13.153248Z"
    },
    "trusted": true
   },
   "execution_count": null,
   "outputs": []
  },
  {
   "cell_type": "code",
   "source": [
    "fig = topic_model.visualize_documents(text_processed_series, embeddings=embeddings)\n",
    "fig.write_html(data_path + \"topic_cluster.html\")\n"
   ],
   "metadata": {
    "execution": {
     "iopub.status.busy": "2024-06-14T16:31:51.582374Z",
     "iopub.execute_input": "2024-06-14T16:31:51.583036Z",
     "iopub.status.idle": "2024-06-14T16:32:08.300891Z",
     "shell.execute_reply.started": "2024-06-14T16:31:51.582997Z",
     "shell.execute_reply": "2024-06-14T16:32:08.300007Z"
    },
    "trusted": true
   },
   "execution_count": null,
   "outputs": []
  },
  {
   "cell_type": "code",
   "source": [
    "fig1 = topic_model.visualize_barchart()\n",
    "fig1.write_html(data_path + \"barchart.html\")"
   ],
   "metadata": {
    "execution": {
     "iopub.status.busy": "2024-06-14T16:36:17.013117Z",
     "iopub.execute_input": "2024-06-14T16:36:17.013822Z",
     "iopub.status.idle": "2024-06-14T16:36:17.127709Z",
     "shell.execute_reply.started": "2024-06-14T16:36:17.013790Z",
     "shell.execute_reply": "2024-06-14T16:36:17.126742Z"
    },
    "trusted": true
   },
   "execution_count": null,
   "outputs": []
  },
  {
   "cell_type": "code",
   "source": [
    "def get_topic_info(topic_model):\n",
    "    df = topic_model.get_topic_info()\n",
    "    df.drop('Representative_Docs', axis=1, inplace=True) \n",
    "    return df\n",
    "\n",
    "def get_document_info(topic_model, docs):\n",
    "    doc_info = topic_model.get_document_info(docs)\n",
    "    return doc_info"
   ],
   "metadata": {
    "execution": {
     "iopub.status.busy": "2024-06-14T16:23:57.046686Z",
     "iopub.execute_input": "2024-06-14T16:23:57.047376Z",
     "iopub.status.idle": "2024-06-14T16:23:57.052151Z",
     "shell.execute_reply.started": "2024-06-14T16:23:57.047341Z",
     "shell.execute_reply": "2024-06-14T16:23:57.051241Z"
    },
    "trusted": true
   },
   "execution_count": null,
   "outputs": []
  },
  {
   "cell_type": "code",
   "source": [
    "doc_info = get_document_info(topic_model, text_processed_series)"
   ],
   "metadata": {
    "execution": {
     "iopub.status.busy": "2024-06-14T16:23:59.150719Z",
     "iopub.execute_input": "2024-06-14T16:23:59.151074Z",
     "iopub.status.idle": "2024-06-14T16:23:59.433289Z",
     "shell.execute_reply.started": "2024-06-14T16:23:59.151046Z",
     "shell.execute_reply": "2024-06-14T16:23:59.432510Z"
    },
    "trusted": true
   },
   "execution_count": null,
   "outputs": []
  },
  {
   "cell_type": "code",
   "source": [
    "doc_info"
   ],
   "metadata": {
    "execution": {
     "iopub.status.busy": "2024-06-14T16:24:37.246953Z",
     "iopub.execute_input": "2024-06-14T16:24:37.248118Z",
     "iopub.status.idle": "2024-06-14T16:24:37.283407Z",
     "shell.execute_reply.started": "2024-06-14T16:24:37.248071Z",
     "shell.execute_reply": "2024-06-14T16:24:37.281221Z"
    },
    "trusted": true
   },
   "execution_count": null,
   "outputs": []
  },
  {
   "cell_type": "code",
   "source": [
    "skip_df[\"topic\"] = doc_info[\"topic\"]\n",
    "skip_df[\"topic_name\"] = doc_info[\"name\"]"
   ],
   "metadata": {
    "execution": {
     "iopub.status.busy": "2024-06-14T16:27:43.740856Z",
     "iopub.execute_input": "2024-06-14T16:27:43.741721Z",
     "iopub.status.idle": "2024-06-14T16:27:43.747304Z",
     "shell.execute_reply.started": "2024-06-14T16:27:43.741692Z",
     "shell.execute_reply": "2024-06-14T16:27:43.746235Z"
    },
    "trusted": true
   },
   "execution_count": null,
   "outputs": []
  },
  {
   "cell_type": "code",
   "source": [
    "skip_df.to_csv('/kaggle/working/skip4_topic.csv', index=False)"
   ],
   "metadata": {
    "execution": {
     "iopub.status.busy": "2024-06-14T16:39:33.419724Z",
     "iopub.execute_input": "2024-06-14T16:39:33.420689Z",
     "iopub.status.idle": "2024-06-14T16:39:36.459245Z",
     "shell.execute_reply.started": "2024-06-14T16:39:33.420654Z",
     "shell.execute_reply": "2024-06-14T16:39:36.458462Z"
    },
    "trusted": true
   },
   "execution_count": null,
   "outputs": []
  }
 ]
}
