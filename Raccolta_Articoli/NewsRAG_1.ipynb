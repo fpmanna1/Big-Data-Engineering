{
 "cells": [
  {
   "cell_type": "markdown",
   "id": "e31be77380f8756d",
   "metadata": {
    "collapsed": false
   },
   "source": [
    "## Setup MongoDB"
   ]
  },
  {
   "cell_type": "code",
   "execution_count": 1,
   "id": "initial_id",
   "metadata": {
    "ExecuteTime": {
     "end_time": "2024-05-22T10:53:24.627387200Z",
     "start_time": "2024-05-22T10:53:24.615386800Z"
    },
    "collapsed": false
   },
   "outputs": [],
   "source": [
    "import subprocess\n",
    "\n",
    "# Define the command to run the Streamlit app\n",
    "command = \"streamlit run dashboard.py\"\n",
    "\n",
    "# Run the command in the background\n",
    "process = subprocess.Popen(command, shell=True)\n"
   ]
  },
  {
   "cell_type": "markdown",
   "id": "29b564c434e7b197",
   "metadata": {
    "collapsed": false
   },
   "source": [
    "## Raccolta dati da WorldNewsApi"
   ]
  },
  {
   "cell_type": "code",
   "execution_count": 4,
   "id": "30b3c60c21a80bb8",
   "metadata": {
    "ExecuteTime": {
     "end_time": "2024-05-23T16:48:37.575500700Z",
     "start_time": "2024-05-23T16:48:25.349149800Z"
    },
    "collapsed": false
   },
   "outputs": [
    {
     "name": "stdout",
     "output_type": "stream",
     "text": [
      "Retrieved 100 articles. Offset: 0/1000. Total available: 627.\n",
      "Retrieved 100 articles. Offset: 100/1000. Total available: 627.\n",
      "Retrieved 100 articles. Offset: 200/1000. Total available: 627.\n",
      "Retrieved 100 articles. Offset: 300/1000. Total available: 627.\n",
      "Retrieved 100 articles. Offset: 400/1000. Total available: 627.\n",
      "Retrieved 100 articles. Offset: 500/1000. Total available: 627.\n",
      "Retrieved 27 articles. Offset: 600/1000. Total available: 627.\n",
      "Retrieved 0 articles. Offset: 700/1000. Total available: 627.\n",
      "Retrieved 0 articles. Offset: 800/1000. Total available: 627.\n",
      "Retrieved 0 articles. Offset: 900/1000. Total available: 627.\n",
      "Retrieved 0 articles. Offset: 1000/1000. Total available: 627.\n"
     ]
    },
    {
     "ename": "ValidationError",
     "evalue": "1 validation error for search_news\noffset\n  Input should be less than or equal to 1000 [type=less_than_equal, input_value=1100, input_type=int]\n    For further information visit https://errors.pydantic.dev/2.7/v/less_than_equal",
     "output_type": "error",
     "traceback": [
      "\u001b[1;31m---------------------------------------------------------------------------\u001b[0m",
      "\u001b[1;31mValidationError\u001b[0m                           Traceback (most recent call last)",
      "Cell \u001b[1;32mIn[4], line 35\u001b[0m\n\u001b[0;32m     31\u001b[0m \t\u001b[38;5;28;01mwhile\u001b[39;00m \u001b[38;5;28mlen\u001b[39m(all_results) \u001b[38;5;241m<\u001b[39m max_results:\n\u001b[0;32m     33\u001b[0m \t\trequest_count \u001b[38;5;241m=\u001b[39m \u001b[38;5;28mmin\u001b[39m(\u001b[38;5;241m100\u001b[39m, max_results \u001b[38;5;241m-\u001b[39m \u001b[38;5;28mlen\u001b[39m(all_results)) \u001b[38;5;66;03m# request 100 or the remaining number of articles\u001b[39;00m\n\u001b[1;32m---> 35\u001b[0m \t\tresponse \u001b[38;5;241m=\u001b[39m \u001b[43mnewsapi_instance\u001b[49m\u001b[38;5;241;43m.\u001b[39;49m\u001b[43msearch_news\u001b[49m\u001b[43m(\u001b[49m\n\u001b[0;32m     36\u001b[0m \u001b[43m\t\t\t\u001b[49m\u001b[43msource_countries\u001b[49m\u001b[38;5;241;43m=\u001b[39;49m\u001b[38;5;124;43m'\u001b[39;49m\u001b[38;5;124;43mit\u001b[39;49m\u001b[38;5;124;43m'\u001b[39;49m\u001b[43m,\u001b[49m\n\u001b[0;32m     37\u001b[0m \u001b[43m\t\t\t\u001b[49m\u001b[43mlanguage\u001b[49m\u001b[38;5;241;43m=\u001b[39;49m\u001b[38;5;124;43m'\u001b[39;49m\u001b[38;5;124;43mit\u001b[39;49m\u001b[38;5;124;43m'\u001b[39;49m\u001b[43m,\u001b[49m\n\u001b[0;32m     38\u001b[0m \u001b[43m            \u001b[49m\u001b[43mnews_sources\u001b[49m\u001b[38;5;241;43m=\u001b[39;49m\u001b[43m \u001b[49m\u001b[43mnews_sources\u001b[49m\u001b[43m,\u001b[49m\n\u001b[0;32m     39\u001b[0m \u001b[43m\t\t\t\u001b[49m\u001b[43mearliest_publish_date\u001b[49m\u001b[38;5;241;43m=\u001b[39;49m\u001b[43m \u001b[49m\u001b[38;5;124;43m'\u001b[39;49m\u001b[38;5;124;43m2023-06-02 11:57:08\u001b[39;49m\u001b[38;5;124;43m'\u001b[39;49m\u001b[43m,\u001b[49m\u001b[43m \u001b[49m\n\u001b[0;32m     40\u001b[0m \u001b[43m\t\t\t\u001b[49m\u001b[43mlatest_publish_date\u001b[49m\u001b[38;5;241;43m=\u001b[39;49m\u001b[38;5;124;43m'\u001b[39;49m\u001b[38;5;124;43m2023-06-05 23:59:00\u001b[39;49m\u001b[38;5;124;43m'\u001b[39;49m\u001b[43m,\u001b[49m\n\u001b[0;32m     41\u001b[0m \u001b[43m\t\t\t\u001b[49m\u001b[43msort\u001b[49m\u001b[38;5;241;43m=\u001b[39;49m\u001b[38;5;124;43m\"\u001b[39;49m\u001b[38;5;124;43mpublish-time\u001b[39;49m\u001b[38;5;124;43m\"\u001b[39;49m\u001b[43m,\u001b[49m\n\u001b[0;32m     42\u001b[0m \u001b[43m\t\t\t\u001b[49m\u001b[43msort_direction\u001b[49m\u001b[38;5;241;43m=\u001b[39;49m\u001b[38;5;124;43m\"\u001b[39;49m\u001b[38;5;124;43masc\u001b[39;49m\u001b[38;5;124;43m\"\u001b[39;49m\u001b[43m,\u001b[49m\n\u001b[0;32m     43\u001b[0m \u001b[43m\t\t\t\u001b[49m\u001b[38;5;66;43;03m#min_sentiment=-1,\u001b[39;49;00m\n\u001b[0;32m     44\u001b[0m \u001b[43m\t\t\t\u001b[49m\u001b[38;5;66;43;03m#max_sentiment=1,\u001b[39;49;00m\n\u001b[0;32m     45\u001b[0m \u001b[43m\t\t\t\u001b[49m\u001b[43moffset\u001b[49m\u001b[38;5;241;43m=\u001b[39;49m\u001b[43moffset\u001b[49m\u001b[43m,\u001b[49m\n\u001b[0;32m     46\u001b[0m \u001b[43m\t\t\t\u001b[49m\u001b[43mnumber\u001b[49m\u001b[38;5;241;43m=\u001b[39;49m\u001b[43mrequest_count\u001b[49m\u001b[43m)\u001b[49m\n\u001b[0;32m     48\u001b[0m \t\t\u001b[38;5;28mprint\u001b[39m(\u001b[38;5;124m\"\u001b[39m\u001b[38;5;124mRetrieved \u001b[39m\u001b[38;5;124m\"\u001b[39m \u001b[38;5;241m+\u001b[39m \u001b[38;5;28mstr\u001b[39m(\u001b[38;5;28mlen\u001b[39m(response\u001b[38;5;241m.\u001b[39mnews)) \u001b[38;5;241m+\u001b[39m \u001b[38;5;124m\"\u001b[39m\u001b[38;5;124m articles. Offset: \u001b[39m\u001b[38;5;124m\"\u001b[39m \u001b[38;5;241m+\u001b[39m \u001b[38;5;28mstr\u001b[39m(offset) \u001b[38;5;241m+\u001b[39m \u001b[38;5;124m\"\u001b[39m\u001b[38;5;124m/\u001b[39m\u001b[38;5;124m\"\u001b[39m \u001b[38;5;241m+\u001b[39m \u001b[38;5;28mstr\u001b[39m(max_results) \u001b[38;5;241m+\u001b[39m\n\u001b[0;32m     49\u001b[0m \t\t\t  \u001b[38;5;124m\"\u001b[39m\u001b[38;5;124m. Total available: \u001b[39m\u001b[38;5;124m\"\u001b[39m \u001b[38;5;241m+\u001b[39m \u001b[38;5;28mstr\u001b[39m(response\u001b[38;5;241m.\u001b[39mavailable) \u001b[38;5;241m+\u001b[39m \u001b[38;5;124m\"\u001b[39m\u001b[38;5;124m.\u001b[39m\u001b[38;5;124m\"\u001b[39m)\n\u001b[0;32m     51\u001b[0m \t\tall_results\u001b[38;5;241m.\u001b[39mextend(response\u001b[38;5;241m.\u001b[39mnews)\n",
      "File \u001b[1;32mc:\\Users\\nokia\\AppData\\Local\\Programs\\Python\\Python312\\Lib\\site-packages\\pydantic\\validate_call_decorator.py:59\u001b[0m, in \u001b[0;36mvalidate_call.<locals>.validate.<locals>.wrapper_function\u001b[1;34m(*args, **kwargs)\u001b[0m\n\u001b[0;32m     57\u001b[0m \u001b[38;5;129m@functools\u001b[39m\u001b[38;5;241m.\u001b[39mwraps(function)\n\u001b[0;32m     58\u001b[0m \u001b[38;5;28;01mdef\u001b[39;00m \u001b[38;5;21mwrapper_function\u001b[39m(\u001b[38;5;241m*\u001b[39margs, \u001b[38;5;241m*\u001b[39m\u001b[38;5;241m*\u001b[39mkwargs):\n\u001b[1;32m---> 59\u001b[0m     \u001b[38;5;28;01mreturn\u001b[39;00m \u001b[43mvalidate_call_wrapper\u001b[49m\u001b[43m(\u001b[49m\u001b[38;5;241;43m*\u001b[39;49m\u001b[43margs\u001b[49m\u001b[43m,\u001b[49m\u001b[43m \u001b[49m\u001b[38;5;241;43m*\u001b[39;49m\u001b[38;5;241;43m*\u001b[39;49m\u001b[43mkwargs\u001b[49m\u001b[43m)\u001b[49m\n",
      "File \u001b[1;32mc:\\Users\\nokia\\AppData\\Local\\Programs\\Python\\Python312\\Lib\\site-packages\\pydantic\\_internal\\_validate_call.py:81\u001b[0m, in \u001b[0;36mValidateCallWrapper.__call__\u001b[1;34m(self, *args, **kwargs)\u001b[0m\n\u001b[0;32m     80\u001b[0m \u001b[38;5;28;01mdef\u001b[39;00m \u001b[38;5;21m__call__\u001b[39m(\u001b[38;5;28mself\u001b[39m, \u001b[38;5;241m*\u001b[39margs: Any, \u001b[38;5;241m*\u001b[39m\u001b[38;5;241m*\u001b[39mkwargs: Any) \u001b[38;5;241m-\u001b[39m\u001b[38;5;241m>\u001b[39m Any:\n\u001b[1;32m---> 81\u001b[0m     res \u001b[38;5;241m=\u001b[39m \u001b[38;5;28;43mself\u001b[39;49m\u001b[38;5;241;43m.\u001b[39;49m\u001b[43m__pydantic_validator__\u001b[49m\u001b[38;5;241;43m.\u001b[39;49m\u001b[43mvalidate_python\u001b[49m\u001b[43m(\u001b[49m\u001b[43mpydantic_core\u001b[49m\u001b[38;5;241;43m.\u001b[39;49m\u001b[43mArgsKwargs\u001b[49m\u001b[43m(\u001b[49m\u001b[43margs\u001b[49m\u001b[43m,\u001b[49m\u001b[43m \u001b[49m\u001b[43mkwargs\u001b[49m\u001b[43m)\u001b[49m\u001b[43m)\u001b[49m\n\u001b[0;32m     82\u001b[0m     \u001b[38;5;28;01mif\u001b[39;00m \u001b[38;5;28mself\u001b[39m\u001b[38;5;241m.\u001b[39m__return_pydantic_validator__:\n\u001b[0;32m     83\u001b[0m         \u001b[38;5;28;01mreturn\u001b[39;00m \u001b[38;5;28mself\u001b[39m\u001b[38;5;241m.\u001b[39m__return_pydantic_validator__(res)\n",
      "\u001b[1;31mValidationError\u001b[0m: 1 validation error for search_news\noffset\n  Input should be less than or equal to 1000 [type=less_than_equal, input_value=1100, input_type=int]\n    For further information visit https://errors.pydantic.dev/2.7/v/less_than_equal"
     ]
    }
   ],
   "source": [
    "import worldnewsapi\n",
    "from worldnewsapi.rest import ApiException\n",
    "newsapi_configuration = worldnewsapi.Configuration(api_key={'apiKey': '2426749237f9403f8287683636077587'})\n",
    "#newsapi_configuration = worldnewsapi.Configuration(api_key={'apiKey': '38010553a8bc4a27afb432b20d52ab00'})\n",
    "\n",
    "\n",
    "news_urls = [\n",
    "    \"https://www.ansa.it/\",\n",
    "#     \"https://www.fanpage.it/\",\n",
    "#     \"https://www.corriere.it/\",\n",
    "    \"https://www.ilfattoquotidiano.it/\",\n",
    "#     \"https://www.ilgiornale.it/\",\n",
    "    \"https://www.ilsole24ore.com/\",\n",
    "    \"https://www.repubblica.it/\",\n",
    "#     \"https://www.lastampa.it/\",\n",
    "    \"https://www.ilmattino.it/\"\n",
    "#   \"https://www.lastampa.it/\",\n",
    "#     # \"https://www.liberoquotidiano.it/\",\n",
    "#     \"https://www.tgcom24.mediaset.it/\"\n",
    "]\n",
    "# Converti la lista degli URL in una stringa separata da virgole\n",
    "news_sources = \",\".join(news_urls)\n",
    "\n",
    "try:\n",
    "\tnewsapi_instance = worldnewsapi.NewsApi(worldnewsapi.ApiClient(newsapi_configuration))\n",
    "\n",
    "\tmax_results = 1000  # replace with your maximum\n",
    "\toffset = 0\n",
    "\tall_results = []\n",
    "\n",
    "\twhile len(all_results) < max_results:\n",
    "\n",
    "\t\trequest_count = min(100, max_results - len(all_results)) # request 100 or the remaining number of articles\n",
    "\n",
    "\t\tresponse = newsapi_instance.search_news(\n",
    "\t\t\tsource_countries='it',\n",
    "\t\t\tlanguage='it',\n",
    "            news_sources= news_sources,\n",
    "\t\t\tearliest_publish_date= '2023-06-02 11:57:08', \n",
    "\t\t\tlatest_publish_date='2023-06-05 23:59:00',\n",
    "\t\t\tsort=\"publish-time\",\n",
    "\t\t\tsort_direction=\"asc\",\n",
    "\t\t\t#min_sentiment=-1,\n",
    "\t\t\t#max_sentiment=1,\n",
    "\t\t\toffset=offset,\n",
    "\t\t\tnumber=request_count)\n",
    "\t\t\n",
    "\t\tprint(\"Retrieved \" + str(len(response.news)) + \" articles. Offset: \" + str(offset) + \"/\" + str(max_results) +\n",
    "\t\t\t  \". Total available: \" + str(response.available) + \".\")\n",
    "\n",
    "\t\tall_results.extend(response.news)\n",
    "\t\toffset += 100\n",
    "\n",
    "except worldnewsapi.ApiException as e:\n",
    "\tprint(\"Exception when calling NewsApi->search_news: %s\\n\" % e)"
   ]
  },
  {
   "cell_type": "code",
   "execution_count": 7,
   "id": "c7421ecf",
   "metadata": {},
   "outputs": [
    {
     "data": {
      "text/plain": [
       "'2023-06-07 00:01:41'"
      ]
     },
     "execution_count": 7,
     "metadata": {},
     "output_type": "execute_result"
    }
   ],
   "source": [
    "all_results[-1].publish_date\n"
   ]
  },
  {
   "cell_type": "code",
   "execution_count": 6,
   "id": "c478d8cb",
   "metadata": {},
   "outputs": [
    {
     "name": "stdout",
     "output_type": "stream",
     "text": [
      "id=120180912 title='Toldo lancia l\\'Inter contro il City, \"E\\' imprevedibile\" - Sport - ANSA' text='\"Un doppio appuntamento che fa parte nella mia storia personale: ho militato 8 anni nella Fiorentina, 9 nell\\'Inter, quasi tutta la mia carriera. So quanto affetto provano i tifosi di Inter e Fiorentina nei confronti delle proprie squadre. Partecipare a una finale è un sogno, adesso bisogna affrontarle nel migliore dei modi\". Così Francesco Toldo, ex portiere di Inter e Fiorentina, le due italiane impegnate in settimana nelle due finali europee, ospite di Radio Anch\\'io Sport. \"Abbiamo visto tutti la partita del City contro il Real, ci ha impressionato. Sembrava il Barcellona di Guardiola: fraseggio, possesso palla, iniziative. La variabile è l\\'Inter: non è una squadra normale, è imprevedibile. Tra le squadre che poteva affrontare il City, la peggiore è l\\'Inter: ha la possibilità di far male in verticale, ha muscoli, in attacco è sempre sul pezzo e ha sistemato anche la difesa. Le critiche che ha subìto Inzaghi l\\'hanno maturato, è stato un allenatore elegante a non reagire in modo istintivo, ha fatto tesoro delle critiche ed è cresciuto. Per il gioco espresso il City parte favorito, ma nulla da togliere all\\'Inter arrivata meritatamente in finale. E poi c\\'è grande sinergia tra squadra e pubblico. La cosa positiva è che l\\'Inter non ha nulla da perdere. Le attese sono differenti\", sottolinea l\\'ex portiere della nazionale. Poi un pensiero va alla sua Fiorentina e alla Roma. \"Non conosco bene il West Ham, ma vorremmo tutti che vincesse la Fiorentina. Spero tutta Italia tifi Fiorentina e Inter, mettendo da parte il tifo almeno per queste due finali. Tre italiane in finale spero non sia un episodio isolato e sporadico. Inter, Fiorentina e Roma in finale: il nostro campionato sta tornando ai livelli di un tempo, sperando di rimanerci ancora a lungo\". Non manca un giudizio sui giovani portieri ed un elogio a Alex Meret: \"I portieri italiani sono in ripresa, è un ruolo simbolo del calcio. Prima era la scuola migliore quella italiana, poi c\\'è stato l\\'avvento dei portieri stranieri, sono cambiate le regole, ora sono privilegiati anche portieri non di statura elevatissima. Comunque mi fa piacere vedere in alcuni portieri italiani: Meret è da volergli bene: un ragazzo a modo, perfetto, ha vinto uno scudetto a Napoli, per me lui rappresenta il rilancio della categoria\", conclude Toldo.' summary='L\\'ex portiere: \"Tutta Italia fa il tifo anche per la Fiorentina\"' url='https://www.ansa.it/sito/notizie/sport/2023/06/05/toldo-lancia-linter-contro-il-city-e-imprevedibile_7c2f4b2f-b23d-4c9c-a477-8a15b49c08dd.html' image='https://www.ansa.it/webimages/img_700/2021/4/24/0f236bed27a82c10f1f2cb20acb0a7d.jpg' publish_date='2023-06-05 11:56:28' author='Redazione ANSA' language='it' source_country='it' sentiment=None\n"
     ]
    }
   ],
   "source": [
    "print(all_results[-1])"
   ]
  },
  {
   "cell_type": "code",
   "execution_count": 7,
   "id": "563354ee",
   "metadata": {},
   "outputs": [],
   "source": [
    "df = all_results[-1]"
   ]
  },
  {
   "cell_type": "code",
   "execution_count": 15,
   "id": "e68b8eab",
   "metadata": {},
   "outputs": [
    {
     "data": {
      "text/html": [
       "<div>\n",
       "<style scoped>\n",
       "    .dataframe tbody tr th:only-of-type {\n",
       "        vertical-align: middle;\n",
       "    }\n",
       "\n",
       "    .dataframe tbody tr th {\n",
       "        vertical-align: top;\n",
       "    }\n",
       "\n",
       "    .dataframe thead th {\n",
       "        text-align: right;\n",
       "    }\n",
       "</style>\n",
       "<table border=\"1\" class=\"dataframe\">\n",
       "  <thead>\n",
       "    <tr style=\"text-align: right;\">\n",
       "      <th></th>\n",
       "      <th>0</th>\n",
       "      <th>1</th>\n",
       "    </tr>\n",
       "  </thead>\n",
       "  <tbody>\n",
       "    <tr>\n",
       "      <th>0</th>\n",
       "      <td>id</td>\n",
       "      <td>120180912</td>\n",
       "    </tr>\n",
       "    <tr>\n",
       "      <th>1</th>\n",
       "      <td>title</td>\n",
       "      <td>Toldo lancia l'Inter contro il City, \"E' imprevedibile\" - Sport - ANSA</td>\n",
       "    </tr>\n",
       "    <tr>\n",
       "      <th>2</th>\n",
       "      <td>text</td>\n",
       "      <td>\"Un doppio appuntamento che fa parte nella mia storia personale: ho militato 8 anni nella Fioren...</td>\n",
       "    </tr>\n",
       "    <tr>\n",
       "      <th>3</th>\n",
       "      <td>summary</td>\n",
       "      <td>L'ex portiere: \"Tutta Italia fa il tifo anche per la Fiorentina\"</td>\n",
       "    </tr>\n",
       "    <tr>\n",
       "      <th>4</th>\n",
       "      <td>url</td>\n",
       "      <td>https://www.ansa.it/sito/notizie/sport/2023/06/05/toldo-lancia-linter-contro-il-city-e-imprevedi...</td>\n",
       "    </tr>\n",
       "    <tr>\n",
       "      <th>5</th>\n",
       "      <td>image</td>\n",
       "      <td>https://www.ansa.it/webimages/img_700/2021/4/24/0f236bed27a82c10f1f2cb20acb0a7d.jpg</td>\n",
       "    </tr>\n",
       "    <tr>\n",
       "      <th>6</th>\n",
       "      <td>publish_date</td>\n",
       "      <td>2023-06-05 11:56:28</td>\n",
       "    </tr>\n",
       "    <tr>\n",
       "      <th>7</th>\n",
       "      <td>author</td>\n",
       "      <td>Redazione ANSA</td>\n",
       "    </tr>\n",
       "    <tr>\n",
       "      <th>8</th>\n",
       "      <td>language</td>\n",
       "      <td>it</td>\n",
       "    </tr>\n",
       "    <tr>\n",
       "      <th>9</th>\n",
       "      <td>source_country</td>\n",
       "      <td>it</td>\n",
       "    </tr>\n",
       "    <tr>\n",
       "      <th>10</th>\n",
       "      <td>sentiment</td>\n",
       "      <td>None</td>\n",
       "    </tr>\n",
       "  </tbody>\n",
       "</table>\n",
       "</div>"
      ],
      "text/plain": [
       "                 0  \\\n",
       "0               id   \n",
       "1            title   \n",
       "2             text   \n",
       "3          summary   \n",
       "4              url   \n",
       "5            image   \n",
       "6     publish_date   \n",
       "7           author   \n",
       "8         language   \n",
       "9   source_country   \n",
       "10       sentiment   \n",
       "\n",
       "                                                                                                      1  \n",
       "0                                                                                             120180912  \n",
       "1                                Toldo lancia l'Inter contro il City, \"E' imprevedibile\" - Sport - ANSA  \n",
       "2   \"Un doppio appuntamento che fa parte nella mia storia personale: ho militato 8 anni nella Fioren...  \n",
       "3                                      L'ex portiere: \"Tutta Italia fa il tifo anche per la Fiorentina\"  \n",
       "4   https://www.ansa.it/sito/notizie/sport/2023/06/05/toldo-lancia-linter-contro-il-city-e-imprevedi...  \n",
       "5                   https://www.ansa.it/webimages/img_700/2021/4/24/0f236bed27a82c10f1f2cb20acb0a7d.jpg  \n",
       "6                                                                                   2023-06-05 11:56:28  \n",
       "7                                                                                        Redazione ANSA  \n",
       "8                                                                                                    it  \n",
       "9                                                                                                    it  \n",
       "10                                                                                                 None  "
      ]
     },
     "execution_count": 15,
     "metadata": {},
     "output_type": "execute_result"
    }
   ],
   "source": [
    "import pandas as pd\n",
    "df = pd.DataFrame(all_results[-1])\n",
    "\n",
    "pd.set_option('display.max_colwidth', 100)\n",
    "df.head(15)"
   ]
  },
  {
   "cell_type": "code",
   "execution_count": 7,
   "id": "d9a0acc5",
   "metadata": {},
   "outputs": [
    {
     "name": "stdout",
     "output_type": "stream",
     "text": [
      "<bound method SearchNewsResponse.to_dict of SearchNewsResponse(offset=0, number=1, available=99, news=[NewsArticle(id=175764819, title='Saldi, al via il 3 gennaio. Confcommercio: giro d’affari da 4,8 miliardi', text='Archiviato il Capodanno, è gà tempo di saldi invernali: mercoledì 3 gennaio si parte in Valle d’Aosta, venerdì 5 in tutte le altre regioni. Saranno 15,8 milioni le famiglie che si dedicheranno allo shopping scontato e ogni persona spenderà circa 137 euro, per un giro di affari di 4,8 miliardi di euro: sono questi, secondo le stime dell’Ufficio Studi Confcommercio, i numeri dei saldi invernali. Spiega il presidente nazionale di Federazione Moda Italia-Confcommercio , Giulio Felloni: “Sono stime che evidenziano una tenuta della propensione al consumo degli italiani, dopo un anno complesso in cui la moda ha contribuito in maniera determinante alla discesa ed al contenimento dell’inflazione. Questi saldi rappresentano un’eccezionale opportunità per i consumatori che potranno trovare nei negozi di moda un vasto assortimento di prodotti di qualità a prezzi molto convenienti. Il fashion retail si conferma una componente essenziale per il valore e la vitalità di vie, piazze e centri storici e contribuisce alla crescita del Pil e dell’occupazione in Italia”. Per il corretto acquisto degli articoli in saldo, Federazione Moda Italia e Confcommercio ricordano alcuni principi di base. La possibilità di cambiare il capo dopo che lo si è acquistato è generalmente lasciata alla discrezionalità del negoziante, a meno che il prodotto non sia danneggiato o non conforme. In questo caso scatta l’obbligo per il negoziante della riparazione o della sostituzione del capo e, nel caso ciò risulti impossibile, la riduzione o la restituzione del prezzo pagato. Il compratore è però tenuto a denunciare il vizio del capo entro due mesi dalla data della scoperta del difetto. Per gli acquisti online i cambi o la rescissione del contratto sono sempre consentiti entro 14 giorni dalla ricezione del prodotto indipendentemente dalla presenza di difetti, fatta eccezione per i prodotti su misura o personalizzati. Per la prova dei capi non c’è obbligo ma è rimesso alla discrezionalità del negoziante, mentre per quanto riguarda i pagamenti le carte di credito devono essere accettate da parte del negoziante e vanno favoriti i pagamenti cashless. I capi che vengono proposti in saldo devono avere carattere stagionale o di moda, ed essere suscettibili di notevole deprezzamento se non venduti entro un certo periodo di tempo. Infine per l’indicazione del prezzo c’è l’obbligo del negoziante di indicare il prezzo normale di vendita, lo sconto e, generalmente, il prezzo finale. In tutto il periodo dei saldi il prezzo iniziale sarà il prezzo più basso applicato alla generalità dei consumatori nei 30 giorni antecedenti l’inizio dei saldi. Confcommercio segnala, inoltre, le varie iniziative promosse sull’intero territorio nazionale da Federazione Moda Italia come “Saldi Chiari e Sicuri”, “Saldi Trasparenti”, “Saldi Tranquilli”.', summary='In 19 regioni su 20 gli sconti invernali partiranno da venerdì 5 gennaio. Attesa una spesa media di 137 euro', url='https://www.ilsole24ore.com/art/il-3-gennaio-via-primi-saldi-confcommercio-giro-d-affari-48-miliardi-AFhLpLDC', image='https://i2.res.24o.it/images2010/Editrice/ILSOLE24ORE/ILSOLE24ORE/2023/03/30/Politica%20e%20societa/ImmaginiWeb/Ritagli/af1c117182bd68ad5952e01c27f622da-kRfC--1020x533@IlSole24Ore-Web.jpg?r=1440x752', publish_date='2024-01-01 12:14:00', author=None, language='it', source_country='it', sentiment=None)])>\n"
     ]
    }
   ],
   "source": [
    "print(pippo)"
   ]
  },
  {
   "cell_type": "markdown",
   "id": "bd8d29422938fa96",
   "metadata": {
    "collapsed": false
   },
   "source": [
    "## Elaborazione JSON ricevuto"
   ]
  },
  {
   "cell_type": "code",
   "execution_count": 8,
   "id": "3dcb48a2bd2bd918",
   "metadata": {
    "ExecuteTime": {
     "end_time": "2024-05-23T16:49:33.707555900Z",
     "start_time": "2024-05-23T16:49:33.693585800Z"
    },
    "collapsed": false
   },
   "outputs": [],
   "source": [
    "# Initialize an empty list to store dictionaries\n",
    "news_dicts = []\n",
    "\n",
    "# Iterate over each NewsArticle object in all_results and convert it to a dictionary\n",
    "for news_article in all_results:\n",
    "    news_dicts.append(news_article.to_dict())"
   ]
  },
  {
   "cell_type": "markdown",
   "id": "99ce9104cabb10db",
   "metadata": {
    "collapsed": false
   },
   "source": [
    "### Preprocessing dati"
   ]
  },
  {
   "cell_type": "code",
   "execution_count": 9,
   "id": "f95e9bf1c3c149b0",
   "metadata": {
    "ExecuteTime": {
     "end_time": "2024-05-23T16:49:36.469772600Z",
     "start_time": "2024-05-23T16:49:36.448643100Z"
    },
    "collapsed": false
   },
   "outputs": [],
   "source": [
    "# Define the keys to exclude\n",
    "keys_to_exclude = {\"id\", \"image\"}\n",
    "\n",
    "# Initialize an empty list to store filtered dictionaries\n",
    "filtered_news_dicts = []\n",
    "\n",
    "# Iterate over each NewsArticle object in all_results and convert it to a filtered dictionary\n",
    "for news_article in news_dicts:\n",
    "    filtered_article = {k: v for k, v in news_article.items() if k not in keys_to_exclude}\n",
    "    filtered_news_dicts.append(filtered_article)"
   ]
  },
  {
   "cell_type": "markdown",
   "id": "128ebc20f4bbfca8",
   "metadata": {
    "collapsed": false
   },
   "source": [
    "### Scrittura csv"
   ]
  },
  {
   "cell_type": "code",
   "execution_count": 10,
   "id": "ae770860806431d9",
   "metadata": {
    "ExecuteTime": {
     "end_time": "2024-05-23T16:49:39.935440900Z",
     "start_time": "2024-05-23T16:49:39.863245700Z"
    },
    "collapsed": false
   },
   "outputs": [
    {
     "name": "stdout",
     "output_type": "stream",
     "text": [
      "CSV file has been successfully updated: news_data_filtered.csv\n"
     ]
    }
   ],
   "source": [
    "import csv\n",
    "import re\n",
    "import os\n",
    "\n",
    "def clean_html_tags(text):\n",
    "    \"\"\"Remove HTML tags from the given text.\"\"\"\n",
    "    if text:\n",
    "        # Remove HTML tags\n",
    "        text = re.sub(r'<.*?>', '', text)\n",
    "        # Remove NBSP characters\n",
    "        text = text.replace('\\xa0', ' ').replace('&nbsp;', ' ')\n",
    "        return text\n",
    "    return text\n",
    "\n",
    "# Ensure news_dicts is not empty\n",
    "if filtered_news_dicts:\n",
    "    # Retrieve field names from all elements of news_dicts\n",
    "    field_names = set(field for news_article in filtered_news_dicts for field in news_article.keys())\n",
    "\n",
    "    # Define the file name for the CSV\n",
    "    csv_file = \"news_data_filtered.csv\"\n",
    "\n",
    "    # Check if the file already exists\n",
    "    file_exists = os.path.isfile(csv_file)\n",
    "\n",
    "    # Open the file in append mode\n",
    "    with open(csv_file, mode=\"a\", newline=\"\", encoding=\"utf-8\") as file:\n",
    "        writer = csv.DictWriter(file, fieldnames=sorted(field_names), extrasaction='ignore')\n",
    "\n",
    "        # Write the header row only if the file does not already exist\n",
    "        if not file_exists:\n",
    "            writer.writeheader()\n",
    "\n",
    "        # Write the data from news_dicts to the CSV file\n",
    "        for news_article in filtered_news_dicts:\n",
    "            # Clean the \"summary\" field if it exists\n",
    "            if 'summary' in news_article:\n",
    "                news_article['summary'] = clean_html_tags(news_article['summary'])\n",
    "            \n",
    "            try:\n",
    "                writer.writerow(news_article)\n",
    "            except ValueError as e:\n",
    "                # Handle missing fields by filling with 'NaN'\n",
    "                row = {field: news_article.get(field, 'NaN') for field in field_names}\n",
    "                writer.writerow(row)\n",
    "\n",
    "    print(\"CSV file has been successfully updated:\", csv_file)\n",
    "else:\n",
    "    print(\"Error: filtered_news_dicts is empty. No data to write to CSV.\")\n"
   ]
  },
  {
   "cell_type": "markdown",
   "id": "b7ac4488531fb1f3",
   "metadata": {
    "collapsed": false
   },
   "source": []
  },
  {
   "cell_type": "code",
   "execution_count": null,
   "id": "baa6079e800c976",
   "metadata": {
    "collapsed": false
   },
   "outputs": [],
   "source": []
  }
 ],
 "metadata": {
  "kernelspec": {
   "display_name": "Python 3",
   "language": "python",
   "name": "python3"
  },
  "language_info": {
   "codemirror_mode": {
    "name": "ipython",
    "version": 3
   },
   "file_extension": ".py",
   "mimetype": "text/x-python",
   "name": "python",
   "nbconvert_exporter": "python",
   "pygments_lexer": "ipython3",
   "version": "3.12.0"
  }
 },
 "nbformat": 4,
 "nbformat_minor": 5
}
