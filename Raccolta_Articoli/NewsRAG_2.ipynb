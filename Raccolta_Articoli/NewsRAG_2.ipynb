{
 "cells": [
  {
   "cell_type": "markdown",
   "id": "e31be77380f8756d",
   "metadata": {
    "collapsed": false
   },
   "source": [
    "## Setup MongoDB"
   ]
  },
  {
   "cell_type": "code",
   "execution_count": 1,
   "id": "initial_id",
   "metadata": {
    "ExecuteTime": {
     "end_time": "2024-05-22T10:53:24.627387200Z",
     "start_time": "2024-05-22T10:53:24.615386800Z"
    },
    "collapsed": false
   },
   "outputs": [],
   "source": [
    "import subprocess\n",
    "\n",
    "# Define the command to run the Streamlit app\n",
    "command = \"streamlit run dashboard.py\"\n",
    "\n",
    "# Run the command in the background\n",
    "process = subprocess.Popen(command, shell=True)\n"
   ]
  },
  {
   "cell_type": "markdown",
   "id": "29b564c434e7b197",
   "metadata": {
    "collapsed": false
   },
   "source": [
    "## Raccolta dati da WorldNewsApi"
   ]
  },
  {
   "cell_type": "code",
   "execution_count": 6,
   "id": "30b3c60c21a80bb8",
   "metadata": {
    "ExecuteTime": {
     "end_time": "2024-05-23T16:48:37.575500700Z",
     "start_time": "2024-05-23T16:48:25.349149800Z"
    },
    "collapsed": false
   },
   "outputs": [
    {
     "name": "stdout",
     "output_type": "stream",
     "text": [
      "Retrieved 100 articles. Offset: 0/1000. Total available: 2459.\n",
      "Retrieved 100 articles. Offset: 100/1000. Total available: 2459.\n",
      "Retrieved 100 articles. Offset: 200/1000. Total available: 2459.\n",
      "Retrieved 100 articles. Offset: 300/1000. Total available: 2459.\n",
      "Retrieved 100 articles. Offset: 400/1000. Total available: 2459.\n",
      "Retrieved 100 articles. Offset: 500/1000. Total available: 2459.\n",
      "Retrieved 100 articles. Offset: 600/1000. Total available: 2459.\n",
      "Retrieved 100 articles. Offset: 700/1000. Total available: 2459.\n",
      "Retrieved 100 articles. Offset: 800/1000. Total available: 2459.\n",
      "Retrieved 100 articles. Offset: 900/1000. Total available: 2459.\n"
     ]
    }
   ],
   "source": [
    "import worldnewsapi\n",
    "from worldnewsapi.rest import ApiException\n",
    "#newsapi_configuration = worldnewsapi.Configuration(api_key={'apiKey': '0f2d5e3a0af046d3b07a243c2bf5472b'})\n",
    "newsapi_configuration = worldnewsapi.Configuration(api_key={'apiKey': 'b9ee5e19c8604b92a039d4a95c666e96'})\n",
    "\n",
    "\n",
    "news_urls = [\n",
    "    \"https://www.ansa.it/\",\n",
    "#     \"https://www.fanpage.it/\",\n",
    "#     \"https://www.corriere.it/\",\n",
    "    \"https://www.ilfattoquotidiano.it/\",\n",
    "#     \"https://www.ilgiornale.it/\",\n",
    "    \"https://www.ilsole24ore.com/\",\n",
    "    \"https://www.repubblica.it/\",\n",
    "#     \"https://www.lastampa.it/\",\n",
    "    \"https://www.ilmattino.it/\"\n",
    "#   \"https://www.lastampa.it/\",\n",
    "#     # \"https://www.liberoquotidiano.it/\",\n",
    "#     \"https://www.tgcom24.mediaset.it/\"\n",
    "]\n",
    "# Converti la lista degli URL in una stringa separata da virgole\n",
    "news_sources = \",\".join(news_urls)\n",
    "\n",
    "try:\n",
    "\tnewsapi_instance = worldnewsapi.NewsApi(worldnewsapi.ApiClient(newsapi_configuration))\n",
    "\n",
    "\tmax_results = 1000  # replace with your maximum\n",
    "\toffset = 0\n",
    "\tall_results = []\n",
    "\n",
    "\twhile len(all_results) < max_results:\n",
    "\n",
    "\t\trequest_count = min(100, max_results - len(all_results)) # request 100 or the remaining number of articles\n",
    "\n",
    "\t\tresponse = newsapi_instance.search_news(\n",
    "\t\t\tsource_countries='it',\n",
    "\t\t\tlanguage='it',\n",
    "            news_sources= news_sources,\n",
    "\t\t\tearliest_publish_date=   '2023-06-10 19:48:05', \n",
    "\t\t\tlatest_publish_date='2023-06-20', \n",
    "\t\t\tsort=\"publish-time\",\n",
    "\t\t\tsort_direction=\"asc\",\n",
    "\t\t\t#min_sentiment=-1,\n",
    "\t\t\t#max_sentiment=1,\n",
    "\t\t\toffset=offset,\n",
    "\t\t\tnumber=request_count)\n",
    "\t\t\n",
    "\t\tprint(\"Retrieved \" + str(len(response.news)) + \" articles. Offset: \" + str(offset) + \"/\" + str(max_results) +\n",
    "\t\t\t  \". Total available: \" + str(response.available) + \".\")\n",
    "\n",
    "\t\tall_results.extend(response.news)\n",
    "\t\toffset += 100\n",
    "\n",
    "except worldnewsapi.ApiException as e:\n",
    "\tprint(\"Exception when calling NewsApi->search_news: %s\\n\" % e)"
   ]
  },
  {
   "cell_type": "code",
   "execution_count": 7,
   "id": "c7421ecf",
   "metadata": {},
   "outputs": [
    {
     "data": {
      "text/plain": [
       "'2023-06-14 01:00:00'"
      ]
     },
     "execution_count": 7,
     "metadata": {},
     "output_type": "execute_result"
    }
   ],
   "source": [
    "all_results[-1].publish_date\n"
   ]
  },
  {
   "cell_type": "code",
   "execution_count": 7,
   "id": "d9a0acc5",
   "metadata": {},
   "outputs": [
    {
     "name": "stdout",
     "output_type": "stream",
     "text": [
      "<bound method SearchNewsResponse.to_dict of SearchNewsResponse(offset=0, number=1, available=99, news=[NewsArticle(id=175764819, title='Saldi, al via il 3 gennaio. Confcommercio: giro d’affari da 4,8 miliardi', text='Archiviato il Capodanno, è gà tempo di saldi invernali: mercoledì 3 gennaio si parte in Valle d’Aosta, venerdì 5 in tutte le altre regioni. Saranno 15,8 milioni le famiglie che si dedicheranno allo shopping scontato e ogni persona spenderà circa 137 euro, per un giro di affari di 4,8 miliardi di euro: sono questi, secondo le stime dell’Ufficio Studi Confcommercio, i numeri dei saldi invernali. Spiega il presidente nazionale di Federazione Moda Italia-Confcommercio , Giulio Felloni: “Sono stime che evidenziano una tenuta della propensione al consumo degli italiani, dopo un anno complesso in cui la moda ha contribuito in maniera determinante alla discesa ed al contenimento dell’inflazione. Questi saldi rappresentano un’eccezionale opportunità per i consumatori che potranno trovare nei negozi di moda un vasto assortimento di prodotti di qualità a prezzi molto convenienti. Il fashion retail si conferma una componente essenziale per il valore e la vitalità di vie, piazze e centri storici e contribuisce alla crescita del Pil e dell’occupazione in Italia”. Per il corretto acquisto degli articoli in saldo, Federazione Moda Italia e Confcommercio ricordano alcuni principi di base. La possibilità di cambiare il capo dopo che lo si è acquistato è generalmente lasciata alla discrezionalità del negoziante, a meno che il prodotto non sia danneggiato o non conforme. In questo caso scatta l’obbligo per il negoziante della riparazione o della sostituzione del capo e, nel caso ciò risulti impossibile, la riduzione o la restituzione del prezzo pagato. Il compratore è però tenuto a denunciare il vizio del capo entro due mesi dalla data della scoperta del difetto. Per gli acquisti online i cambi o la rescissione del contratto sono sempre consentiti entro 14 giorni dalla ricezione del prodotto indipendentemente dalla presenza di difetti, fatta eccezione per i prodotti su misura o personalizzati. Per la prova dei capi non c’è obbligo ma è rimesso alla discrezionalità del negoziante, mentre per quanto riguarda i pagamenti le carte di credito devono essere accettate da parte del negoziante e vanno favoriti i pagamenti cashless. I capi che vengono proposti in saldo devono avere carattere stagionale o di moda, ed essere suscettibili di notevole deprezzamento se non venduti entro un certo periodo di tempo. Infine per l’indicazione del prezzo c’è l’obbligo del negoziante di indicare il prezzo normale di vendita, lo sconto e, generalmente, il prezzo finale. In tutto il periodo dei saldi il prezzo iniziale sarà il prezzo più basso applicato alla generalità dei consumatori nei 30 giorni antecedenti l’inizio dei saldi. Confcommercio segnala, inoltre, le varie iniziative promosse sull’intero territorio nazionale da Federazione Moda Italia come “Saldi Chiari e Sicuri”, “Saldi Trasparenti”, “Saldi Tranquilli”.', summary='In 19 regioni su 20 gli sconti invernali partiranno da venerdì 5 gennaio. Attesa una spesa media di 137 euro', url='https://www.ilsole24ore.com/art/il-3-gennaio-via-primi-saldi-confcommercio-giro-d-affari-48-miliardi-AFhLpLDC', image='https://i2.res.24o.it/images2010/Editrice/ILSOLE24ORE/ILSOLE24ORE/2023/03/30/Politica%20e%20societa/ImmaginiWeb/Ritagli/af1c117182bd68ad5952e01c27f622da-kRfC--1020x533@IlSole24Ore-Web.jpg?r=1440x752', publish_date='2024-01-01 12:14:00', author=None, language='it', source_country='it', sentiment=None)])>\n"
     ]
    }
   ],
   "source": [
    "print(pippo)"
   ]
  },
  {
   "cell_type": "markdown",
   "id": "bd8d29422938fa96",
   "metadata": {
    "collapsed": false
   },
   "source": [
    "## Elaborazione JSON ricevuto"
   ]
  },
  {
   "cell_type": "code",
   "execution_count": 8,
   "id": "3dcb48a2bd2bd918",
   "metadata": {
    "ExecuteTime": {
     "end_time": "2024-05-23T16:49:33.707555900Z",
     "start_time": "2024-05-23T16:49:33.693585800Z"
    },
    "collapsed": false
   },
   "outputs": [],
   "source": [
    "# Initialize an empty list to store dictionaries\n",
    "news_dicts = []\n",
    "\n",
    "# Iterate over each NewsArticle object in all_results and convert it to a dictionary\n",
    "for news_article in all_results:\n",
    "    news_dicts.append(news_article.to_dict())"
   ]
  },
  {
   "cell_type": "markdown",
   "id": "99ce9104cabb10db",
   "metadata": {
    "collapsed": false
   },
   "source": [
    "### Preprocessing dati"
   ]
  },
  {
   "cell_type": "code",
   "execution_count": 9,
   "id": "f95e9bf1c3c149b0",
   "metadata": {
    "ExecuteTime": {
     "end_time": "2024-05-23T16:49:36.469772600Z",
     "start_time": "2024-05-23T16:49:36.448643100Z"
    },
    "collapsed": false
   },
   "outputs": [],
   "source": [
    "# Define the keys to exclude\n",
    "keys_to_exclude = {\"id\", \"image\"}\n",
    "\n",
    "# Initialize an empty list to store filtered dictionaries\n",
    "filtered_news_dicts = []\n",
    "\n",
    "# Iterate over each NewsArticle object in all_results and convert it to a filtered dictionary\n",
    "for news_article in news_dicts:\n",
    "    filtered_article = {k: v for k, v in news_article.items() if k not in keys_to_exclude}\n",
    "    filtered_news_dicts.append(filtered_article)"
   ]
  },
  {
   "cell_type": "markdown",
   "id": "128ebc20f4bbfca8",
   "metadata": {
    "collapsed": false
   },
   "source": [
    "### Scrittura csv"
   ]
  },
  {
   "cell_type": "code",
   "execution_count": 10,
   "id": "ae770860806431d9",
   "metadata": {
    "ExecuteTime": {
     "end_time": "2024-05-23T16:49:39.935440900Z",
     "start_time": "2024-05-23T16:49:39.863245700Z"
    },
    "collapsed": false
   },
   "outputs": [
    {
     "name": "stdout",
     "output_type": "stream",
     "text": [
      "CSV file has been successfully updated: news_data_filtered.csv\n"
     ]
    }
   ],
   "source": [
    "import csv\n",
    "import re\n",
    "import os\n",
    "\n",
    "def clean_html_tags(text):\n",
    "    \"\"\"Remove HTML tags from the given text.\"\"\"\n",
    "    if text:\n",
    "        # Remove HTML tags\n",
    "        text = re.sub(r'<.*?>', '', text)\n",
    "        # Remove NBSP characters\n",
    "        text = text.replace('\\xa0', ' ').replace('&nbsp;', ' ')\n",
    "        return text\n",
    "    return text\n",
    "\n",
    "# Ensure news_dicts is not empty\n",
    "if filtered_news_dicts:\n",
    "    # Retrieve field names from all elements of news_dicts\n",
    "    field_names = set(field for news_article in filtered_news_dicts for field in news_article.keys())\n",
    "\n",
    "    # Define the file name for the CSV\n",
    "    csv_file = \"news_data_filtered.csv\"\n",
    "\n",
    "    # Check if the file already exists\n",
    "    file_exists = os.path.isfile(csv_file)\n",
    "\n",
    "    # Open the file in append mode\n",
    "    with open(csv_file, mode=\"a\", newline=\"\", encoding=\"utf-8\") as file:\n",
    "        writer = csv.DictWriter(file, fieldnames=sorted(field_names), extrasaction='ignore')\n",
    "\n",
    "        # Write the header row only if the file does not already exist\n",
    "        if not file_exists:\n",
    "            writer.writeheader()\n",
    "\n",
    "        # Write the data from news_dicts to the CSV file\n",
    "        for news_article in filtered_news_dicts:\n",
    "            # Clean the \"summary\" field if it exists\n",
    "            if 'summary' in news_article:\n",
    "                news_article['summary'] = clean_html_tags(news_article['summary'])\n",
    "            \n",
    "            try:\n",
    "                writer.writerow(news_article)\n",
    "            except ValueError as e:\n",
    "                # Handle missing fields by filling with 'NaN'\n",
    "                row = {field: news_article.get(field, 'NaN') for field in field_names}\n",
    "                writer.writerow(row)\n",
    "\n",
    "    print(\"CSV file has been successfully updated:\", csv_file)\n",
    "else:\n",
    "    print(\"Error: filtered_news_dicts is empty. No data to write to CSV.\")\n"
   ]
  },
  {
   "cell_type": "markdown",
   "id": "b7ac4488531fb1f3",
   "metadata": {
    "collapsed": false
   },
   "source": []
  },
  {
   "cell_type": "code",
   "execution_count": null,
   "id": "baa6079e800c976",
   "metadata": {
    "collapsed": false
   },
   "outputs": [],
   "source": []
  }
 ],
 "metadata": {
  "kernelspec": {
   "display_name": "Python 3",
   "language": "python",
   "name": "python3"
  },
  "language_info": {
   "codemirror_mode": {
    "name": "ipython",
    "version": 3
   },
   "file_extension": ".py",
   "mimetype": "text/x-python",
   "name": "python",
   "nbconvert_exporter": "python",
   "pygments_lexer": "ipython3",
   "version": "3.12.0"
  }
 },
 "nbformat": 4,
 "nbformat_minor": 5
}
